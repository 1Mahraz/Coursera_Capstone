{
 "cells": [
  {
   "cell_type": "markdown",
   "metadata": {
    "collapsed": true
   },
   "source": [
    "# Exploring Toronto Neighborhood"
   ]
  },
  {
   "cell_type": "markdown",
   "metadata": {},
   "source": [
    "## 1.Introduction\n",
    "\n",
    "Toronto is the provincial capital of the state of Ontario and the most populous city in Canada with a population of over 2.5 M as of 2016. It is also known as the financial capital of Canada. Toronto is known as one of the most multicultural and multiracial cities in the world. More than half of the residents of the city belong to a visible minority group, and there are many ethnic neighborhoods in the city, including Chinatowns, Little Italy, Little India, Little Portugal, Little Jamaica, and many more. \n",
    "\n",
    "In a diverse city like Toronto, each of the different minority groups have brought their traditional cuisine from their own countries and keep it as an expression of cultural identity. Recently I read an article on how different neighborhoods of the NYC can be clustered based on the popular resteaurants in those neighborhoods. This gave me the idea of conductin similar study for the city of Toronto. In this project I am going to look at the popular resturants in different neighborhoods of Toronto and invesitgate the relatin between food diversity and location. Moreover, I am going to investigate what the popular activities in each area are, and what the potential investment opourtunity in each are.\n",
    "\n",
    "Stakeholders would be the investors who are intrested in opening a new business to use this analysis to evaluate the risks and oppurtunities. Those who are intrested to know more about the city diversity culture may also benefit from this study."
   ]
  },
  {
   "cell_type": "markdown",
   "metadata": {},
   "source": [
    "## 2.Data\n",
    "\n",
    "### 2.1. Neighborhoods and Boroughs of Toronto\n",
    "In this project we are going to use the *List of postal codes of Canada* ([Wikipedia page](https://en.wikipedia.org/wiki/List_of_postal_codes_of_Canada:_M)) to find all the neighborhoods of Toronto and their respective boroughs. List of all the postal codes and their respective neighborhoods and boroughs are tabulated in that wikipedia page as follow (only 5 first rows are shown here):\n",
    "\n",
    "|Postal Code|Borough|Neighborhood| \n",
    "|-----|-----|-----|\n",
    "|M1A | Not assigned| Not assigned|\n",
    "|M2A | Not assigned| Not assigned|\n",
    "|M3A| North York |  Parkwoods|\n",
    "|M4A | North York| Victoria Village \n",
    "|M5A |\tDowntown Toronto |Regent Park, Harbourfront |\n",
    "\n",
    "### 2.2. Beautiful Soup\n",
    "\n",
    "Beautiful is a Python library to extract data out of HTML, XML, or other markup languages. When you find some data on a website that you are interested in but there is no direct link to download those data, Beautiful Soup, as a web scraping tool, can be used to pull the data and clean them. In this project, since there was no way to download the above table, I used Beautiful Soup to extract the table from the Wikipedia page, clean it, and convert it to a data frame that can be easily manipulated.\n",
    "\n",
    "### 2.3. Forsquare API\n",
    "As a social location service, Foursquare provides location-based experiences with diverse information about the venues. Foursquare users can share their opinions on the application and comment on the quality of the service they have received. The Foursquare API allows the developer to interact with the Foursquare platform and obtain the information they required. In this project, I used the Foursquare API to get a list of venues created by Foursquare users in each neighborhood.\n",
    "\n",
    "### 2.4. OpenCage Geocoder\n",
    "To get venues of a neighborhood from the Foursquare API, we need the coordinates of the location. Since we only obtain the name of the neighbors from the Wikipedia page, we need to get the coordinates of the location. The OpenCage Geocoder is a geocoding library written in Python that can convert an address to its latitude-longitude coordinates."
   ]
  },
  {
   "cell_type": "markdown",
   "metadata": {},
   "source": [
    "## 3. Methodology\n",
    "Install and download all the required packages."
   ]
  },
  {
   "cell_type": "code",
   "execution_count": 1,
   "metadata": {},
   "outputs": [],
   "source": [
    "#!pip install beautifulsoup4\n",
    "#!pip install lxml\n",
    "#!pip install html5lib\n",
    "#!pip install requests\n",
    "#!pip install opencage\n",
    "#!pip install folium\n",
    "\n",
    "from bs4 import BeautifulSoup\n",
    "import requests\n",
    "import csv\n",
    "\n",
    "import pandas as pd\n",
    "pd.set_option('display.max_columns', None)\n",
    "pd.set_option('display.max_rows', None)\n",
    "\n",
    "import numpy as np \n",
    "\n",
    "from opencage.geocoder import OpenCageGeocode\n",
    "from pprint import pprint\n",
    "\n",
    "import folium # map rendering library\n",
    "\n",
    "import json # library to handle JSON files\n",
    "import requests # library to handle requests\n",
    "from pandas.io.json import json_normalize # tranform JSON file into a pandas dataframe\n",
    "\n",
    "from sklearn.cluster import KMeans # import k-means from clustering stage\n",
    "from sklearn.metrics import silhouette_score\n",
    "\n",
    "import seaborn as sns\n",
    "import matplotlib.pyplot as plt\n",
    "import matplotlib.cm as cm # Matplotlib and associated plotting modules\n",
    "import matplotlib.colors as colors # Matplotlib and associated plotting modules\n",
    "\n",
    "from collections import Counter # count occurrences \n",
    "\n",
    "import numpy as np # library to handle data in a vectorized manner\n",
    "import pickle    # to save dataframe on the disk and load it for the second time run"
   ]
  },
  {
   "cell_type": "markdown",
   "metadata": {},
   "source": [
    "### 3.1. Create the Toronto Data Set\n",
    "In this section, we are going to create a data set for the city of Toronto.\n",
    "#### 3.1.1. Neighborhoods and Boroughs of Toronto"
   ]
  },
  {
   "cell_type": "code",
   "execution_count": 2,
   "metadata": {},
   "outputs": [],
   "source": [
    "source = requests.get(\"https://en.wikipedia.org/wiki/List_of_postal_codes_of_Canada:_M\").text #get the wikipedia page source\n",
    "soup = BeautifulSoup(source, 'lxml') #sparce the source \n",
    "table = soup.find('table') #find the table in the source\n",
    "pcodes = table.tbody.find_all('tr') "
   ]
  },
  {
   "cell_type": "code",
   "execution_count": 3,
   "metadata": {},
   "outputs": [
    {
     "data": {
      "text/plain": [
       "33"
      ]
     },
     "execution_count": 3,
     "metadata": {},
     "output_type": "execute_result"
    }
   ],
   "source": [
    "# save the table in a csv file\n",
    "csv_file = open('table_file.csv' , 'w')\n",
    "csv_writer = csv.writer(csv_file)\n",
    "csv_writer.writerow(['PostalCode' , 'Borough' , 'Neighborhood']) #write the first row of the file as titles"
   ]
  },
  {
   "cell_type": "code",
   "execution_count": 4,
   "metadata": {},
   "outputs": [
    {
     "name": "stdout",
     "output_type": "stream",
     "text": [
      "[]\n",
      "['M1A', 'Not assigned', '']\n",
      "['M2A', 'Not assigned', '']\n",
      "['M3A', 'North York', 'Parkwoods']\n",
      "['M4A', 'North York', 'Victoria Village']\n",
      "['M5A', 'Downtown Toronto', 'Regent Park, Harbourfront']\n",
      "['M6A', 'North York', 'Lawrence Manor, Lawrence Heights']\n",
      "['M7A', 'Downtown Toronto', \"Queen's Park, Ontario Provincial Government\"]\n",
      "['M8A', 'Not assigned', '']\n",
      "['M9A', 'Etobicoke', 'Islington Avenue']\n",
      "['M1B', 'Scarborough', 'Malvern, Rouge']\n",
      "['M2B', 'Not assigned', '']\n",
      "['M3B', 'North York', 'Don Mills']\n",
      "['M4B', 'East York', 'Parkview Hill, Woodbine Gardens']\n",
      "['M5B', 'Downtown Toronto', 'Garden District, Ryerson']\n",
      "['M6B', 'North York', 'Glencairn']\n",
      "['M7B', 'Not assigned', '']\n",
      "['M8B', 'Not assigned', '']\n",
      "['M9B', 'Etobicoke', 'West Deane Park, Princess Gardens, Martin Grove, Islington, Cloverdale']\n",
      "['M1C', 'Scarborough', 'Rouge Hill, Port Union, Highland Creek']\n",
      "['M2C', 'Not assigned', '']\n",
      "['M3C', 'North York', 'Don Mills']\n",
      "['M4C', 'East York', 'Woodbine Heights']\n",
      "['M5C', 'Downtown Toronto', 'St. James Town']\n",
      "['M6C', 'York', 'Humewood-Cedarvale']\n",
      "['M7C', 'Not assigned', '']\n",
      "['M8C', 'Not assigned', '']\n",
      "['M9C', 'Etobicoke', 'Eringate, Bloordale Gardens, Old Burnhamthorpe, Markland Wood']\n",
      "['M1E', 'Scarborough', 'Guildwood, Morningside, West Hill']\n",
      "['M2E', 'Not assigned', '']\n",
      "['M3E', 'Not assigned', '']\n",
      "['M4E', 'East Toronto', 'The Beaches']\n",
      "['M5E', 'Downtown Toronto', 'Berczy Park']\n",
      "['M6E', 'York', 'Caledonia-Fairbanks']\n",
      "['M7E', 'Not assigned', '']\n",
      "['M8E', 'Not assigned', '']\n",
      "['M9E', 'Not assigned', '']\n",
      "['M1G', 'Scarborough', 'Woburn']\n",
      "['M2G', 'Not assigned', '']\n",
      "['M3G', 'Not assigned', '']\n",
      "['M4G', 'East York', 'Leaside']\n",
      "['M5G', 'Downtown Toronto', 'Central Bay Street']\n",
      "['M6G', 'Downtown Toronto', 'Christie']\n",
      "['M7G', 'Not assigned', '']\n",
      "['M8G', 'Not assigned', '']\n",
      "['M9G', 'Not assigned', '']\n",
      "['M1H', 'Scarborough', 'Cedarbrae']\n",
      "['M2H', 'North York', 'Hillcrest Village']\n",
      "['M3H', 'North York', 'Bathurst Manor, Wilson Heights, Downsview North']\n",
      "['M4H', 'East York', 'Thorncliffe Park']\n",
      "['M5H', 'Downtown Toronto', 'Richmond, Adelaide, King']\n",
      "['M6H', 'West Toronto', 'Dufferin, Dovercourt Village']\n",
      "['M7H', 'Not assigned', '']\n",
      "['M8H', 'Not assigned', '']\n",
      "['M9H', 'Not assigned', '']\n",
      "['M1J', 'Scarborough', 'Scarborough Village']\n",
      "['M2J', 'North York', 'Fairview, Henry Farm, Oriole']\n",
      "['M3J', 'North York', 'Northwood Park, York University']\n",
      "['M4J', 'East York', 'East Toronto']\n",
      "['M5J', 'Downtown Toronto', 'Harbourfront East, Union Station, Toronto Islands']\n",
      "['M6J', 'West Toronto', 'Little Portugal, Trinity']\n",
      "['M7J', 'Not assigned', '']\n",
      "['M8J', 'Not assigned', '']\n",
      "['M9J', 'Not assigned', '']\n",
      "['M1K', 'Scarborough', 'Kennedy Park, Ionview, East Birchmount Park']\n",
      "['M2K', 'North York', 'Bayview Village']\n",
      "['M3K', 'North York', 'Downsview']\n",
      "['M4K', 'East Toronto', 'The Danforth West, Riverdale']\n",
      "['M5K', 'Downtown Toronto', 'Toronto Dominion Centre, Design Exchange']\n",
      "['M6K', 'West Toronto', 'Brockton, Parkdale Village, Exhibition Place']\n",
      "['M7K', 'Not assigned', '']\n",
      "['M8K', 'Not assigned', '']\n",
      "['M9K', 'Not assigned', '']\n",
      "['M1L', 'Scarborough', 'Golden Mile, Clairlea, Oakridge']\n",
      "['M2L', 'North York', 'York Mills, Silver Hills']\n",
      "['M3L', 'North York', 'Downsview']\n",
      "['M4L', 'East Toronto', 'India Bazaar, The Beaches West']\n",
      "['M5L', 'Downtown Toronto', 'Commerce Court, Victoria Hotel']\n",
      "['M6L', 'North York', 'North Park, Maple Leaf Park, Upwood Park']\n",
      "['M7L', 'Not assigned', '']\n",
      "['M8L', 'Not assigned', '']\n",
      "['M9L', 'North York', 'Humber Summit']\n",
      "['M1M', 'Scarborough', 'Cliffside, Cliffcrest, Scarborough Village West']\n",
      "['M2M', 'North York', 'Willowdale, Newtonbrook']\n",
      "['M3M', 'North York', 'Downsview']\n",
      "['M4M', 'East Toronto', 'Studio District']\n",
      "['M5M', 'North York', 'Bedford Park, Lawrence Manor East']\n",
      "['M6M', 'York', 'Del Ray, Mount Dennis, Keelsdale and Silverthorn']\n",
      "['M7M', 'Not assigned', '']\n",
      "['M8M', 'Not assigned', '']\n",
      "['M9M', 'North York', 'Humberlea, Emery']\n",
      "['M1N', 'Scarborough', 'Birch Cliff, Cliffside West']\n",
      "['M2N', 'North York', 'Willowdale']\n",
      "['M3N', 'North York', 'Downsview']\n",
      "['M4N', 'Central Toronto', 'Lawrence Park']\n",
      "['M5N', 'Central Toronto', 'Roselawn']\n",
      "['M6N', 'York', 'Runnymede, The Junction North']\n",
      "['M7N', 'Not assigned', '']\n",
      "['M8N', 'Not assigned', '']\n",
      "['M9N', 'York', 'Weston']\n",
      "['M1P', 'Scarborough', 'Dorset Park, Wexford Heights, Scarborough Town Centre']\n",
      "['M2P', 'North York', 'York Mills West']\n",
      "['M3P', 'Not assigned', '']\n",
      "['M4P', 'Central Toronto', 'Davisville North']\n",
      "['M5P', 'Central Toronto', 'Forest Hill North & West']\n",
      "['M6P', 'West Toronto', 'High Park, The Junction South']\n",
      "['M7P', 'Not assigned', '']\n",
      "['M8P', 'Not assigned', '']\n",
      "['M9P', 'Etobicoke', 'Westmount']\n",
      "['M1R', 'Scarborough', 'Wexford, Maryvale']\n",
      "['M2R', 'North York', 'Willowdale']\n",
      "['M3R', 'Not assigned', '']\n",
      "['M4R', 'Central Toronto', 'North Toronto West']\n",
      "['M5R', 'Central Toronto', 'The Annex, North Midtown, Yorkville']\n",
      "['M6R', 'West Toronto', 'Parkdale, Roncesvalles']\n",
      "['M7R', 'Mississauga', 'Canada Post Gateway Processing Centre']\n",
      "['M8R', 'Not assigned', '']\n",
      "['M9R', 'Etobicoke', 'Kingsview Village, St. Phillips, Martin Grove Gardens, Richview Gardens']\n",
      "['M1S', 'Scarborough', 'Agincourt']\n",
      "['M2S', 'Not assigned', '']\n",
      "['M3S', 'Not assigned', '']\n",
      "['M4S', 'Central Toronto', 'Davisville']\n",
      "['M5S', 'Downtown Toronto', 'University of Toronto, Harbord']\n",
      "['M6S', 'West Toronto', 'Runnymede, Swansea']\n",
      "['M7S', 'Not assigned', '']\n",
      "['M8S', 'Not assigned', '']\n",
      "['M9S', 'Not assigned', '']\n",
      "['M1T', 'Scarborough', \"Clarks Corners, Tam O'Shanter, Sullivan\"]\n",
      "['M2T', 'Not assigned', '']\n",
      "['M3T', 'Not assigned', '']\n",
      "['M4T', 'Central Toronto', 'Moore Park, Summerhill East']\n",
      "['M5T', 'Downtown Toronto', 'Kensington Market, Chinatown, Grange Park']\n",
      "['M6T', 'Not assigned', '']\n",
      "['M7T', 'Not assigned', '']\n",
      "['M8T', 'Not assigned', '']\n",
      "['M9T', 'Not assigned', '']\n",
      "['M1V', 'Scarborough', \"Milliken, Agincourt North, Steeles East, L'Amoreaux East\"]\n",
      "['M2V', 'Not assigned', '']\n",
      "['M3V', 'Not assigned', '']\n",
      "['M4V', 'Central Toronto', 'Summerhill West, Rathnelly, South Hill, Forest Hill SE, Deer Park']\n",
      "['M5V', 'Downtown Toronto', 'CN Tower, King and Spadina, Railway Lands, Harbourfront West, Bathurst Quay, South Niagara, Island airport']\n",
      "['M6V', 'Not assigned', '']\n",
      "['M7V', 'Not assigned', '']\n",
      "['M8V', 'Etobicoke', 'New Toronto, Mimico South, Humber Bay Shores']\n",
      "['M9V', 'Etobicoke', 'South Steeles, Silverstone, Humbergate, Jamestown, Mount Olive, Beaumond Heights, Thistletown, Albion Gardens']\n",
      "['M1W', 'Scarborough', \"Steeles West, L'Amoreaux West\"]\n",
      "['M2W', 'Not assigned', '']\n",
      "['M3W', 'Not assigned', '']\n",
      "['M4W', 'Downtown Toronto', 'Rosedale']\n",
      "['M5W', 'Downtown Toronto', 'Stn A PO Boxes']\n",
      "['M6W', 'Not assigned', '']\n",
      "['M7W', 'Not assigned', '']\n",
      "['M8W', 'Etobicoke', 'Alderwood, Long Branch']\n",
      "['M9W', 'Etobicoke', 'Northwest']\n",
      "['M1X', 'Scarborough', 'Upper Rouge']\n",
      "['M2X', 'Not assigned', '']\n",
      "['M3X', 'Not assigned', '']\n",
      "['M4X', 'Downtown Toronto', 'St. James Town, Cabbagetown']\n",
      "['M5X', 'Downtown Toronto', 'First Canadian Place, Underground city']\n",
      "['M6X', 'Not assigned', '']\n",
      "['M7X', 'Not assigned', '']\n",
      "['M8X', 'Etobicoke', 'The Kingsway, Montgomery Road, Old Mill North']\n",
      "['M9X', 'Not assigned', '']\n",
      "['M1Y', 'Not assigned', '']\n",
      "['M2Y', 'Not assigned', '']\n",
      "['M3Y', 'Not assigned', '']\n",
      "['M4Y', 'Downtown Toronto', 'Church and Wellesley']\n",
      "['M5Y', 'Not assigned', '']\n",
      "['M6Y', 'Not assigned', '']\n",
      "['M7Y', 'East Toronto', 'Business reply mail Processing Centre']\n",
      "['M8Y', 'Etobicoke', \"Old Mill South, King's Mill Park, Sunnylea, Humber Bay, Mimico NE, The Queensway East, Royal York South East, Kingsway Park South East\"]\n",
      "['M9Y', 'Not assigned', '']\n",
      "['M1Z', 'Not assigned', '']\n",
      "['M2Z', 'Not assigned', '']\n",
      "['M3Z', 'Not assigned', '']\n",
      "['M4Z', 'Not assigned', '']\n",
      "['M5Z', 'Not assigned', '']\n",
      "['M6Z', 'Not assigned', '']\n",
      "['M7Z', 'Not assigned', '']\n",
      "['M8Z', 'Etobicoke', 'Mimico NW, The Queensway West, South of Bloor, Kingsway Park South West, Royal York South West']\n",
      "['M9Z', 'Not assigned', '']\n"
     ]
    }
   ],
   "source": [
    "for item in pcodes:\n",
    "    subitem_list = []\n",
    "    for subitem in item.find_all('td'):\n",
    "        subitem_list.append( subitem.text.split( \"\\n\")[0] )\n",
    "    print(subitem_list)\n",
    "    csv_writer.writerow(subitem_list)\n",
    "csv_file.close()"
   ]
  },
  {
   "cell_type": "code",
   "execution_count": 5,
   "metadata": {},
   "outputs": [
    {
     "name": "stdout",
     "output_type": "stream",
     "text": [
      "  PostalCode           Borough               Neighborhood\n",
      "0        M1A      Not assigned                        NaN\n",
      "1        M2A      Not assigned                        NaN\n",
      "2        M3A        North York                  Parkwoods\n",
      "3        M4A        North York           Victoria Village\n",
      "4        M5A  Downtown Toronto  Regent Park, Harbourfront\n"
     ]
    }
   ],
   "source": [
    "#convert the csv file into a dataframe\n",
    "CanPostCode = pd.read_csv('table_file.csv')\n",
    "print(CanPostCode.head())"
   ]
  },
  {
   "cell_type": "markdown",
   "metadata": {},
   "source": [
    "Now we need to clean the data a little bit. First we should remove all the rows for which neighborhood or borough is not defined:"
   ]
  },
  {
   "cell_type": "code",
   "execution_count": 6,
   "metadata": {},
   "outputs": [
    {
     "data": {
      "text/html": [
       "<div>\n",
       "<style scoped>\n",
       "    .dataframe tbody tr th:only-of-type {\n",
       "        vertical-align: middle;\n",
       "    }\n",
       "\n",
       "    .dataframe tbody tr th {\n",
       "        vertical-align: top;\n",
       "    }\n",
       "\n",
       "    .dataframe thead th {\n",
       "        text-align: right;\n",
       "    }\n",
       "</style>\n",
       "<table border=\"1\" class=\"dataframe\">\n",
       "  <thead>\n",
       "    <tr style=\"text-align: right;\">\n",
       "      <th></th>\n",
       "      <th>PostalCode</th>\n",
       "      <th>Borough</th>\n",
       "      <th>Neighborhood</th>\n",
       "    </tr>\n",
       "  </thead>\n",
       "  <tbody>\n",
       "    <tr>\n",
       "      <th>2</th>\n",
       "      <td>M3A</td>\n",
       "      <td>North York</td>\n",
       "      <td>Parkwoods</td>\n",
       "    </tr>\n",
       "    <tr>\n",
       "      <th>3</th>\n",
       "      <td>M4A</td>\n",
       "      <td>North York</td>\n",
       "      <td>Victoria Village</td>\n",
       "    </tr>\n",
       "    <tr>\n",
       "      <th>4</th>\n",
       "      <td>M5A</td>\n",
       "      <td>Downtown Toronto</td>\n",
       "      <td>Regent Park, Harbourfront</td>\n",
       "    </tr>\n",
       "    <tr>\n",
       "      <th>5</th>\n",
       "      <td>M6A</td>\n",
       "      <td>North York</td>\n",
       "      <td>Lawrence Manor, Lawrence Heights</td>\n",
       "    </tr>\n",
       "    <tr>\n",
       "      <th>6</th>\n",
       "      <td>M7A</td>\n",
       "      <td>Downtown Toronto</td>\n",
       "      <td>Queen's Park, Ontario Provincial Government</td>\n",
       "    </tr>\n",
       "  </tbody>\n",
       "</table>\n",
       "</div>"
      ],
      "text/plain": [
       "  PostalCode           Borough                                 Neighborhood\n",
       "2        M3A        North York                                    Parkwoods\n",
       "3        M4A        North York                             Victoria Village\n",
       "4        M5A  Downtown Toronto                    Regent Park, Harbourfront\n",
       "5        M6A        North York             Lawrence Manor, Lawrence Heights\n",
       "6        M7A  Downtown Toronto  Queen's Park, Ontario Provincial Government"
      ]
     },
     "execution_count": 6,
     "metadata": {},
     "output_type": "execute_result"
    }
   ],
   "source": [
    "CanPostCode.drop( CanPostCode[ CanPostCode['Borough'] == 'Not assigned'].index , inplace = True)\n",
    "CanPostCode.drop( CanPostCode[ CanPostCode['Neighborhood'] == 'Not assigned'].index , inplace = True)\n",
    "CanPostCode.head()"
   ]
  },
  {
   "cell_type": "markdown",
   "metadata": {},
   "source": [
    "Note that some neighborhoods have more than one postal code. To get full list of neighborhoods we need to split neighborhood cells into multiple rows as follows:"
   ]
  },
  {
   "cell_type": "code",
   "execution_count": 7,
   "metadata": {},
   "outputs": [
    {
     "data": {
      "text/html": [
       "<div>\n",
       "<style scoped>\n",
       "    .dataframe tbody tr th:only-of-type {\n",
       "        vertical-align: middle;\n",
       "    }\n",
       "\n",
       "    .dataframe tbody tr th {\n",
       "        vertical-align: top;\n",
       "    }\n",
       "\n",
       "    .dataframe thead th {\n",
       "        text-align: right;\n",
       "    }\n",
       "</style>\n",
       "<table border=\"1\" class=\"dataframe\">\n",
       "  <thead>\n",
       "    <tr style=\"text-align: right;\">\n",
       "      <th></th>\n",
       "      <th>PostalCode</th>\n",
       "      <th>Borough</th>\n",
       "      <th>Neighborhood</th>\n",
       "    </tr>\n",
       "  </thead>\n",
       "  <tbody>\n",
       "    <tr>\n",
       "      <th>0</th>\n",
       "      <td>M3A</td>\n",
       "      <td>North York</td>\n",
       "      <td>Parkwoods</td>\n",
       "    </tr>\n",
       "    <tr>\n",
       "      <th>1</th>\n",
       "      <td>M4A</td>\n",
       "      <td>North York</td>\n",
       "      <td>Victoria Village</td>\n",
       "    </tr>\n",
       "    <tr>\n",
       "      <th>2</th>\n",
       "      <td>M5A</td>\n",
       "      <td>Downtown Toronto</td>\n",
       "      <td>Regent Park</td>\n",
       "    </tr>\n",
       "    <tr>\n",
       "      <th>3</th>\n",
       "      <td>M5A</td>\n",
       "      <td>Downtown Toronto</td>\n",
       "      <td>Harbourfront</td>\n",
       "    </tr>\n",
       "    <tr>\n",
       "      <th>4</th>\n",
       "      <td>M6A</td>\n",
       "      <td>North York</td>\n",
       "      <td>Lawrence Manor</td>\n",
       "    </tr>\n",
       "  </tbody>\n",
       "</table>\n",
       "</div>"
      ],
      "text/plain": [
       "  PostalCode           Borough      Neighborhood\n",
       "0        M3A        North York         Parkwoods\n",
       "1        M4A        North York  Victoria Village\n",
       "2        M5A  Downtown Toronto       Regent Park\n",
       "3        M5A  Downtown Toronto      Harbourfront\n",
       "4        M6A        North York    Lawrence Manor"
      ]
     },
     "execution_count": 7,
     "metadata": {},
     "output_type": "execute_result"
    }
   ],
   "source": [
    "CanPostCode.set_index(['PostalCode' , 'Borough'] , inplace = True) #consider PostalCode and Borough as index\n",
    "CanPostCode = CanPostCode.Neighborhood.str.split(',', expand=True) #split the neighborhood cell to multiple rows\n",
    "CanPostCode = CanPostCode.stack().reset_index(-1, drop=True).reset_index().rename( columns = {0:\"Neighborhood\"}) # remove NaN values and stack them over each other.\n",
    "CanPostCode.head()"
   ]
  },
  {
   "cell_type": "markdown",
   "metadata": {},
   "source": [
    "Also, some postal codes covers parts of the different neighborhoods and some neighborhood can have more than one postal code. To have the list of unique neighborhoods, duplicate values are removed:\n"
   ]
  },
  {
   "cell_type": "code",
   "execution_count": 8,
   "metadata": {},
   "outputs": [],
   "source": [
    "CanPostCode = CanPostCode.drop_duplicates(subset='Neighborhood', keep=\"first\")\n",
    "Neigh_Bor_dic = dict(zip(CanPostCode.Neighborhood,CanPostCode.Borough)) #make a dictionary whose keys are neighborhood and values are boroughs"
   ]
  },
  {
   "cell_type": "markdown",
   "metadata": {},
   "source": [
    "Now let's see how many neighborhoods are in each borough.\n"
   ]
  },
  {
   "cell_type": "code",
   "execution_count": 9,
   "metadata": {},
   "outputs": [
    {
     "data": {
      "text/html": [
       "<div>\n",
       "<style scoped>\n",
       "    .dataframe tbody tr th:only-of-type {\n",
       "        vertical-align: middle;\n",
       "    }\n",
       "\n",
       "    .dataframe tbody tr th {\n",
       "        vertical-align: top;\n",
       "    }\n",
       "\n",
       "    .dataframe thead th {\n",
       "        text-align: right;\n",
       "    }\n",
       "</style>\n",
       "<table border=\"1\" class=\"dataframe\">\n",
       "  <thead>\n",
       "    <tr style=\"text-align: right;\">\n",
       "      <th></th>\n",
       "      <th>PostalCode</th>\n",
       "      <th>Neighborhood</th>\n",
       "    </tr>\n",
       "    <tr>\n",
       "      <th>Borough</th>\n",
       "      <th></th>\n",
       "      <th></th>\n",
       "    </tr>\n",
       "  </thead>\n",
       "  <tbody>\n",
       "    <tr>\n",
       "      <th>Central Toronto</th>\n",
       "      <td>16</td>\n",
       "      <td>16</td>\n",
       "    </tr>\n",
       "    <tr>\n",
       "      <th>Downtown Toronto</th>\n",
       "      <td>38</td>\n",
       "      <td>38</td>\n",
       "    </tr>\n",
       "    <tr>\n",
       "      <th>East Toronto</th>\n",
       "      <td>7</td>\n",
       "      <td>7</td>\n",
       "    </tr>\n",
       "    <tr>\n",
       "      <th>East York</th>\n",
       "      <td>6</td>\n",
       "      <td>6</td>\n",
       "    </tr>\n",
       "    <tr>\n",
       "      <th>Etobicoke</th>\n",
       "      <td>45</td>\n",
       "      <td>45</td>\n",
       "    </tr>\n",
       "    <tr>\n",
       "      <th>Mississauga</th>\n",
       "      <td>1</td>\n",
       "      <td>1</td>\n",
       "    </tr>\n",
       "    <tr>\n",
       "      <th>North York</th>\n",
       "      <td>30</td>\n",
       "      <td>30</td>\n",
       "    </tr>\n",
       "    <tr>\n",
       "      <th>Scarborough</th>\n",
       "      <td>38</td>\n",
       "      <td>38</td>\n",
       "    </tr>\n",
       "    <tr>\n",
       "      <th>West Toronto</th>\n",
       "      <td>12</td>\n",
       "      <td>12</td>\n",
       "    </tr>\n",
       "    <tr>\n",
       "      <th>York</th>\n",
       "      <td>8</td>\n",
       "      <td>8</td>\n",
       "    </tr>\n",
       "  </tbody>\n",
       "</table>\n",
       "</div>"
      ],
      "text/plain": [
       "                  PostalCode  Neighborhood\n",
       "Borough                                   \n",
       "Central Toronto           16            16\n",
       "Downtown Toronto          38            38\n",
       "East Toronto               7             7\n",
       "East York                  6             6\n",
       "Etobicoke                 45            45\n",
       "Mississauga                1             1\n",
       "North York                30            30\n",
       "Scarborough               38            38\n",
       "West Toronto              12            12\n",
       "York                       8             8"
      ]
     },
     "execution_count": 9,
     "metadata": {},
     "output_type": "execute_result"
    }
   ],
   "source": [
    "CanPostCode.groupby('Borough').count()"
   ]
  },
  {
   "cell_type": "markdown",
   "metadata": {},
   "source": [
    "Note that among all the postal codes listed for Toronto area, there is only one postal code (Amazon warehouse) that belongs to Borough of Mississauga. Therefore we remove borough of Mississauga from the dataframe:"
   ]
  },
  {
   "cell_type": "code",
   "execution_count": 10,
   "metadata": {},
   "outputs": [
    {
     "data": {
      "text/html": [
       "<div>\n",
       "<style scoped>\n",
       "    .dataframe tbody tr th:only-of-type {\n",
       "        vertical-align: middle;\n",
       "    }\n",
       "\n",
       "    .dataframe tbody tr th {\n",
       "        vertical-align: top;\n",
       "    }\n",
       "\n",
       "    .dataframe thead th {\n",
       "        text-align: right;\n",
       "    }\n",
       "</style>\n",
       "<table border=\"1\" class=\"dataframe\">\n",
       "  <thead>\n",
       "    <tr style=\"text-align: right;\">\n",
       "      <th></th>\n",
       "      <th>PostalCode</th>\n",
       "      <th>Borough</th>\n",
       "      <th>Neighborhood</th>\n",
       "    </tr>\n",
       "  </thead>\n",
       "  <tbody>\n",
       "    <tr>\n",
       "      <th>0</th>\n",
       "      <td>M3A</td>\n",
       "      <td>North York</td>\n",
       "      <td>Parkwoods</td>\n",
       "    </tr>\n",
       "    <tr>\n",
       "      <th>1</th>\n",
       "      <td>M4A</td>\n",
       "      <td>North York</td>\n",
       "      <td>Victoria Village</td>\n",
       "    </tr>\n",
       "    <tr>\n",
       "      <th>2</th>\n",
       "      <td>M5A</td>\n",
       "      <td>Downtown Toronto</td>\n",
       "      <td>Regent Park</td>\n",
       "    </tr>\n",
       "    <tr>\n",
       "      <th>3</th>\n",
       "      <td>M5A</td>\n",
       "      <td>Downtown Toronto</td>\n",
       "      <td>Harbourfront</td>\n",
       "    </tr>\n",
       "    <tr>\n",
       "      <th>4</th>\n",
       "      <td>M6A</td>\n",
       "      <td>North York</td>\n",
       "      <td>Lawrence Manor</td>\n",
       "    </tr>\n",
       "  </tbody>\n",
       "</table>\n",
       "</div>"
      ],
      "text/plain": [
       "  PostalCode           Borough      Neighborhood\n",
       "0        M3A        North York         Parkwoods\n",
       "1        M4A        North York  Victoria Village\n",
       "2        M5A  Downtown Toronto       Regent Park\n",
       "3        M5A  Downtown Toronto      Harbourfront\n",
       "4        M6A        North York    Lawrence Manor"
      ]
     },
     "execution_count": 10,
     "metadata": {},
     "output_type": "execute_result"
    }
   ],
   "source": [
    "CanPostCode.drop( CanPostCode[ CanPostCode['Borough'] == 'Mississauga'].index , inplace = True)\n",
    "CanPostCode.reset_index(inplace = True)  \n",
    "CanPostCode.drop(columns = \"index\" , inplace = True)\n",
    "CanPostCode.head()"
   ]
  },
  {
   "cell_type": "code",
   "execution_count": 11,
   "metadata": {},
   "outputs": [
    {
     "data": {
      "text/html": [
       "<div>\n",
       "<style scoped>\n",
       "    .dataframe tbody tr th:only-of-type {\n",
       "        vertical-align: middle;\n",
       "    }\n",
       "\n",
       "    .dataframe tbody tr th {\n",
       "        vertical-align: top;\n",
       "    }\n",
       "\n",
       "    .dataframe thead th {\n",
       "        text-align: right;\n",
       "    }\n",
       "</style>\n",
       "<table border=\"1\" class=\"dataframe\">\n",
       "  <thead>\n",
       "    <tr style=\"text-align: right;\">\n",
       "      <th></th>\n",
       "      <th>PostalCode</th>\n",
       "      <th>Neighborhood</th>\n",
       "    </tr>\n",
       "    <tr>\n",
       "      <th>Borough</th>\n",
       "      <th></th>\n",
       "      <th></th>\n",
       "    </tr>\n",
       "  </thead>\n",
       "  <tbody>\n",
       "    <tr>\n",
       "      <th>Central Toronto</th>\n",
       "      <td>16</td>\n",
       "      <td>16</td>\n",
       "    </tr>\n",
       "    <tr>\n",
       "      <th>Downtown Toronto</th>\n",
       "      <td>38</td>\n",
       "      <td>38</td>\n",
       "    </tr>\n",
       "    <tr>\n",
       "      <th>East Toronto</th>\n",
       "      <td>7</td>\n",
       "      <td>7</td>\n",
       "    </tr>\n",
       "    <tr>\n",
       "      <th>East York</th>\n",
       "      <td>6</td>\n",
       "      <td>6</td>\n",
       "    </tr>\n",
       "    <tr>\n",
       "      <th>Etobicoke</th>\n",
       "      <td>45</td>\n",
       "      <td>45</td>\n",
       "    </tr>\n",
       "    <tr>\n",
       "      <th>North York</th>\n",
       "      <td>30</td>\n",
       "      <td>30</td>\n",
       "    </tr>\n",
       "    <tr>\n",
       "      <th>Scarborough</th>\n",
       "      <td>38</td>\n",
       "      <td>38</td>\n",
       "    </tr>\n",
       "    <tr>\n",
       "      <th>West Toronto</th>\n",
       "      <td>12</td>\n",
       "      <td>12</td>\n",
       "    </tr>\n",
       "    <tr>\n",
       "      <th>York</th>\n",
       "      <td>8</td>\n",
       "      <td>8</td>\n",
       "    </tr>\n",
       "  </tbody>\n",
       "</table>\n",
       "</div>"
      ],
      "text/plain": [
       "                  PostalCode  Neighborhood\n",
       "Borough                                   \n",
       "Central Toronto           16            16\n",
       "Downtown Toronto          38            38\n",
       "East Toronto               7             7\n",
       "East York                  6             6\n",
       "Etobicoke                 45            45\n",
       "North York                30            30\n",
       "Scarborough               38            38\n",
       "West Toronto              12            12\n",
       "York                       8             8"
      ]
     },
     "execution_count": 11,
     "metadata": {},
     "output_type": "execute_result"
    }
   ],
   "source": [
    "CanPostCode.groupby('Borough').count()"
   ]
  },
  {
   "cell_type": "code",
   "execution_count": 12,
   "metadata": {},
   "outputs": [
    {
     "name": "stdout",
     "output_type": "stream",
     "text": [
      "Toronto area has 200 neighborhoods and 9 boroughs\n"
     ]
    }
   ],
   "source": [
    "print('Toronto area has {} neighborhoods and {} boroughs'.format( CanPostCode.shape[0] ,len(CanPostCode['Borough'].unique()) ))"
   ]
  },
  {
   "cell_type": "markdown",
   "metadata": {},
   "source": [
    "### 3.1.2. Obtain the latitudes and longitudes of the neighborhoods\n",
    "In this section we use geocoder to convert the address of the neighborhoods to the geographical coordinates."
   ]
  },
  {
   "cell_type": "code",
   "execution_count": 13,
   "metadata": {},
   "outputs": [],
   "source": [
    "key = 'c43c7ac8a6454d75a9f3cd5b9fb454e9'\n",
    "geocoder = OpenCageGeocode(key)"
   ]
  },
  {
   "cell_type": "code",
   "execution_count": 14,
   "metadata": {},
   "outputs": [],
   "source": [
    "Address = []\n",
    "for neigh , bor in zip(CanPostCode['Neighborhood'].values.tolist() , CanPostCode['Borough'].values.tolist()):\n",
    "    Address.append(neigh + \", \" + bor + \", Toronto, Canada\")"
   ]
  },
  {
   "cell_type": "code",
   "execution_count": 15,
   "metadata": {},
   "outputs": [
    {
     "data": {
      "text/html": [
       "<div>\n",
       "<style scoped>\n",
       "    .dataframe tbody tr th:only-of-type {\n",
       "        vertical-align: middle;\n",
       "    }\n",
       "\n",
       "    .dataframe tbody tr th {\n",
       "        vertical-align: top;\n",
       "    }\n",
       "\n",
       "    .dataframe thead th {\n",
       "        text-align: right;\n",
       "    }\n",
       "</style>\n",
       "<table border=\"1\" class=\"dataframe\">\n",
       "  <thead>\n",
       "    <tr style=\"text-align: right;\">\n",
       "      <th></th>\n",
       "      <th>PostalCode</th>\n",
       "      <th>Borough</th>\n",
       "      <th>Neighborhood</th>\n",
       "      <th>Address</th>\n",
       "    </tr>\n",
       "  </thead>\n",
       "  <tbody>\n",
       "    <tr>\n",
       "      <th>0</th>\n",
       "      <td>M3A</td>\n",
       "      <td>North York</td>\n",
       "      <td>Parkwoods</td>\n",
       "      <td>Parkwoods, North York, Toronto, Canada</td>\n",
       "    </tr>\n",
       "    <tr>\n",
       "      <th>1</th>\n",
       "      <td>M4A</td>\n",
       "      <td>North York</td>\n",
       "      <td>Victoria Village</td>\n",
       "      <td>Victoria Village, North York, Toronto, Canada</td>\n",
       "    </tr>\n",
       "    <tr>\n",
       "      <th>2</th>\n",
       "      <td>M5A</td>\n",
       "      <td>Downtown Toronto</td>\n",
       "      <td>Regent Park</td>\n",
       "      <td>Regent Park, Downtown Toronto, Toronto, Canada</td>\n",
       "    </tr>\n",
       "    <tr>\n",
       "      <th>3</th>\n",
       "      <td>M5A</td>\n",
       "      <td>Downtown Toronto</td>\n",
       "      <td>Harbourfront</td>\n",
       "      <td>Harbourfront, Downtown Toronto, Toronto, Canada</td>\n",
       "    </tr>\n",
       "    <tr>\n",
       "      <th>4</th>\n",
       "      <td>M6A</td>\n",
       "      <td>North York</td>\n",
       "      <td>Lawrence Manor</td>\n",
       "      <td>Lawrence Manor, North York, Toronto, Canada</td>\n",
       "    </tr>\n",
       "  </tbody>\n",
       "</table>\n",
       "</div>"
      ],
      "text/plain": [
       "  PostalCode           Borough      Neighborhood  \\\n",
       "0        M3A        North York         Parkwoods   \n",
       "1        M4A        North York  Victoria Village   \n",
       "2        M5A  Downtown Toronto       Regent Park   \n",
       "3        M5A  Downtown Toronto      Harbourfront   \n",
       "4        M6A        North York    Lawrence Manor   \n",
       "\n",
       "                                            Address  \n",
       "0            Parkwoods, North York, Toronto, Canada  \n",
       "1     Victoria Village, North York, Toronto, Canada  \n",
       "2    Regent Park, Downtown Toronto, Toronto, Canada  \n",
       "3   Harbourfront, Downtown Toronto, Toronto, Canada  \n",
       "4       Lawrence Manor, North York, Toronto, Canada  "
      ]
     },
     "execution_count": 15,
     "metadata": {},
     "output_type": "execute_result"
    }
   ],
   "source": [
    "CanPostCode['Address'] = Address\n",
    "CanPostCode.head()"
   ]
  },
  {
   "cell_type": "code",
   "execution_count": 16,
   "metadata": {},
   "outputs": [],
   "source": [
    "CanPostCode['lat'] = CanPostCode['Address'].apply(lambda item: geocoder.geocode(str(item))[0]['geometry']['lat']) #latitude column"
   ]
  },
  {
   "cell_type": "code",
   "execution_count": null,
   "metadata": {},
   "outputs": [],
   "source": [
    "CanPostCode['long'] = CanPostCode['Address'].apply(lambda item: geocoder.geocode(str(item))[0]['geometry']['lng']) #longitude column"
   ]
  },
  {
   "cell_type": "code",
   "execution_count": null,
   "metadata": {},
   "outputs": [],
   "source": [
    "##For final report uncomment this cell\n",
    "##I will comment out this whole section since I did it once, and save it by pickle on file (read explaination below and see next two cells)\n",
    "CanPostCode['lat'] = CanPostCode['Address'].apply(lambda item: geocoder.geocode(str(item))[0]['geometry']['lat']) #latitude column\n",
    "CanPostCode['long'] = CanPostCode['Address'].apply(lambda item: geocoder.geocode(str(item))[0]['geometry']['lng']) #longitude column\n",
    "CanPostCode.head()"
   ]
  },
  {
   "cell_type": "markdown",
   "metadata": {},
   "source": [
    "The process of converting addresses to their lat, long, coordinates could be very time consuming. Since I have not done the project in one sit, at this point, I save the above dataframe on the disk by **pickle**. Next time that I want to work on the rest of the code, I do not need to spend almost four minutes on creating the above dataframe."
   ]
  },
  {
   "cell_type": "code",
   "execution_count": null,
   "metadata": {},
   "outputs": [],
   "source": [
    "##for final report uncomment this cell\n",
    "## I comment this whole section to prevent unwanted overwrite on my file\n",
    "with open('CanPostCode_file.pkl', 'wb') as f:\n",
    "        pickle.dump(CanPostCode, f)"
   ]
  },
  {
   "cell_type": "code",
   "execution_count": 1,
   "metadata": {},
   "outputs": [
    {
     "ename": "NameError",
     "evalue": "name 'pickle' is not defined",
     "output_type": "error",
     "traceback": [
      "\u001b[0;31m---------------------------------------------------------------------------\u001b[0m",
      "\u001b[0;31mNameError\u001b[0m                                 Traceback (most recent call last)",
      "\u001b[0;32m<ipython-input-1-43d2a590dd87>\u001b[0m in \u001b[0;36m<module>\u001b[0;34m()\u001b[0m\n\u001b[1;32m      1\u001b[0m \u001b[0;32mwith\u001b[0m \u001b[0mopen\u001b[0m\u001b[0;34m(\u001b[0m\u001b[0;34m'CanPostCode_file.pkl'\u001b[0m\u001b[0;34m,\u001b[0m \u001b[0;34m'rb'\u001b[0m\u001b[0;34m)\u001b[0m \u001b[0;32mas\u001b[0m \u001b[0mf\u001b[0m\u001b[0;34m:\u001b[0m\u001b[0;34m\u001b[0m\u001b[0m\n\u001b[0;32m----> 2\u001b[0;31m         \u001b[0mCanPostCode\u001b[0m \u001b[0;34m=\u001b[0m \u001b[0mpickle\u001b[0m\u001b[0;34m.\u001b[0m\u001b[0mload\u001b[0m\u001b[0;34m(\u001b[0m\u001b[0mf\u001b[0m\u001b[0;34m)\u001b[0m\u001b[0;34m\u001b[0m\u001b[0m\n\u001b[0m",
      "\u001b[0;31mNameError\u001b[0m: name 'pickle' is not defined"
     ]
    }
   ],
   "source": [
    "with open('CanPostCode_file.pkl', 'rb') as f:\n",
    "        CanPostCode = pickle.load(f)"
   ]
  },
  {
   "cell_type": "code",
   "execution_count": null,
   "metadata": {},
   "outputs": [],
   "source": [
    "CanPostCode.head()"
   ]
  },
  {
   "cell_type": "markdown",
   "metadata": {},
   "source": [
    "The map of Toronto is created by folium which is a great visulization library. You can zoom in/out and also click on each circle to see the information of the respective neighborhood."
   ]
  },
  {
   "cell_type": "code",
   "execution_count": null,
   "metadata": {},
   "outputs": [],
   "source": [
    "# create map of Toronto using latitude and longitude values\n",
    "n = 1\n",
    "latitude = 43.6534817\n",
    "longitude = -79.3839347\n",
    "map_toronto = folium.Map(location=[latitude, longitude], zoom_start=10)\n",
    "\n",
    "# add markers to map\n",
    "for lat, lng, borough, neighborhood in zip(CanPostCode['lat'], CanPostCode['long'], CanPostCode['Borough'], CanPostCode['Neighborhood']):\n",
    "    label = '{}, {}'.format(neighborhood, borough)\n",
    "    label = folium.Popup(label, parse_html=True)\n",
    "    folium.CircleMarker(\n",
    "        [lat, lng],\n",
    "        radius=5,\n",
    "        popup=label,\n",
    "        color='blue',\n",
    "        fill=True,\n",
    "        fill_color='#3186cc',\n",
    "        fill_opacity=0.7,\n",
    "        parse_html=False).add_to(map_toronto)  \n",
    "    \n",
    "map_toronto"
   ]
  },
  {
   "cell_type": "markdown",
   "metadata": {},
   "source": [
    "### 3.2. Obtain top venues in each neighborhood\n",
    "\n",
    "After finding all neighborhoods of Toronto, in this section, we find venues listed for each neighborhood by Foursquare API users.\n"
   ]
  },
  {
   "cell_type": "markdown",
   "metadata": {},
   "source": [
    "#### 3.2.1. setting up Forsquare API\n"
   ]
  },
  {
   "cell_type": "code",
   "execution_count": null,
   "metadata": {},
   "outputs": [],
   "source": [
    "CLIENT_ID = 'YUNBULII4XKK5MFG0AQLAL1MSRVLUOOMVC3NJRD2TGZE1RIQ' # your Foursquare ID\n",
    "CLIENT_SECRET = 'RBJIE5V0BE4DZZKHELF0DMMG1CQSCLD1YR4NA5VO1RSSL4SR' # your Foursquare Secret\n",
    "VERSION = '20180605' # Foursquare API version\n",
    "\n",
    "print('Your credentails:')\n",
    "print('CLIENT_ID: ' + CLIENT_ID)\n",
    "print('CLIENT_SECRET:' + CLIENT_SECRET)\n",
    "LIMIT = 100 # limit of number of venues returned by Foursquare API\n",
    "radius = 1000 # define radius in meter"
   ]
  },
  {
   "cell_type": "markdown",
   "metadata": {},
   "source": [
    "The following function accept coordinates of a location as an input and obtain the first top 100 venues in radius of 500 meter from Forsquare API.\n"
   ]
  },
  {
   "cell_type": "code",
   "execution_count": null,
   "metadata": {},
   "outputs": [],
   "source": [
    "def getNearbyVenues(names, latitudes, longitudes, radius=500, LIMIT = 100):\n",
    "    \n",
    "    venues_list=[]\n",
    "    for name, lat, lng in zip(names, latitudes, longitudes):\n",
    "        #print(name)\n",
    "            \n",
    "        # create the API request URL\n",
    "        url = 'https://api.foursquare.com/v2/venues/explore?&client_id={}&client_secret={}&v={}&ll={},{}&radius={}&limit={}'.format(\n",
    "            CLIENT_ID, \n",
    "            CLIENT_SECRET, \n",
    "            VERSION, \n",
    "            lat, \n",
    "            lng, \n",
    "            radius, \n",
    "            LIMIT)\n",
    "            \n",
    "        # make the GET request\n",
    "        results = requests.get(url).json()[\"response\"]['groups'][0]['items']\n",
    "        \n",
    "        # return only relevant information for each nearby venue\n",
    "        venues_list.append([(\n",
    "            name, \n",
    "            lat, \n",
    "            lng, \n",
    "            v['venue']['name'], \n",
    "            v['venue']['location']['lat'], \n",
    "            v['venue']['location']['lng'],  \n",
    "            v['venue']['categories'][0]['name']) for v in results])\n",
    "\n",
    "    nearby_venues = pd.DataFrame([item for venue_list in venues_list for item in venue_list])\n",
    "    nearby_venues.columns = ['Neighborhood', \n",
    "                  'Neighborhood Latitude', \n",
    "                  'Neighborhood Longitude', \n",
    "                  'Venue', \n",
    "                  'Venue Latitude', \n",
    "                  'Venue Longitude', \n",
    "                  'Venue Category']\n",
    "    \n",
    "    return(nearby_venues)"
   ]
  },
  {
   "cell_type": "markdown",
   "metadata": {},
   "source": [
    "#### 3.2.2 Example\n",
    "To understand how Foursquare API works, let's get all the venues for Parkwoods neighborhood as the first row of the dataframe."
   ]
  },
  {
   "cell_type": "code",
   "execution_count": null,
   "metadata": {},
   "outputs": [],
   "source": [
    "CanPostCode.head(1)"
   ]
  },
  {
   "cell_type": "markdown",
   "metadata": {},
   "source": [
    "By using pickle library we can prevent any redundant requests to the Foursquare API."
   ]
  },
  {
   "cell_type": "code",
   "execution_count": null,
   "metadata": {},
   "outputs": [],
   "source": [
    "# get all venues in Parkwoods, North York, Toronto, Canada\n",
    "name_sample = \"Parkwoods\"\n",
    "venues_list_sample=[]\n",
    "lat_sample = 43.761124\n",
    "lng_sample = -79.324059              \n",
    "# create the API request URL\n",
    "url_sample = 'https://api.foursquare.com/v2/venues/explore?&client_id={}&client_secret={}&v={}&ll={},{}&radius={}&limit={}'.format(\n",
    "            CLIENT_ID, \n",
    "            CLIENT_SECRET, \n",
    "            VERSION, \n",
    "            lat_sample, \n",
    "            lng_sample, \n",
    "            radius, \n",
    "            LIMIT)\n",
    "            \n",
    "# make the GET request\n",
    "results_sample = requests.get(url_sample).json()[\"response\"]['groups'][0]['items']\n",
    "        \n",
    "# return only relevant information for each nearby venue\n",
    "venues_list_sample.append([(\n",
    "                        name_sample, \n",
    "                        lat_sample, \n",
    "                        lng_sample, \n",
    "                        v['venue']['name'], \n",
    "                        v['venue']['location']['lat'], \n",
    "                        v['venue']['location']['lng'],  \n",
    "                        v['venue']['categories'][0]['name']) for v in results_sample])\n",
    "\n",
    "nearby_venues_sample = pd.DataFrame([item for item in venues_list_sample[0]])\n",
    "nearby_venues_sample.columns = ['Neighborhood', \n",
    "                                'Neighborhood Latitude', \n",
    "                                'Neighborhood Longitude', \n",
    "                                'Venue', \n",
    "                                'Venue Latitude', \n",
    "                                'Venue Longitude', \n",
    "                                'Venue Category']\n",
    "nearby_venues_sample['Borough'] = nearby_venues_sample['Neighborhood'].apply(lambda item: Neigh_Bor_dic[item] )\n",
    "nearby_venues_sample = nearby_venues_sample[ ['Borough'] + [ col for col in nearby_venues_sample.columns if col != 'Borough' ] ]\n",
    "\n",
    "nearby_venues_sample.head(10)"
   ]
  },
  {
   "cell_type": "markdown",
   "metadata": {},
   "source": [
    "#### 3.2.3. All venues\n",
    "After seeing one example on how to get all venues in one neighborhood, we are going to get top 100 venues of all neighborhoods."
   ]
  },
  {
   "cell_type": "code",
   "execution_count": null,
   "metadata": {},
   "outputs": [],
   "source": [
    "try:\n",
    "    with open('Toronto_venues.pkl', 'rb') as f:\n",
    "        toronto_venues = pickle.load(f)\n",
    "    print(\"---Dataframe Existed and Deserialized---\")\n",
    "except:\n",
    "    toronto_venues = getNearbyVenues(names=CanPostCode['Neighborhood'],\n",
    "                                        latitudes=CanPostCode['lat'],\n",
    "                                        longitudes=CanPostCode['long']\n",
    "                                       )\n",
    "    with open('Toronto_venues.pkl', 'wb') as f:\n",
    "        pickle.dump(toronto_venues, f)\n",
    "    print(\"---Dataframe Created and Serialized---\")"
   ]
  },
  {
   "cell_type": "code",
   "execution_count": null,
   "metadata": {},
   "outputs": [],
   "source": [
    "toronto_venues['Borough'] = toronto_venues['Neighborhood'].apply(lambda item: Neigh_Bor_dic[item] )\n",
    "toronto_venues = toronto_venues[ ['Borough'] + [ col for col in toronto_venues.columns if col != 'Borough' ] ]"
   ]
  },
  {
   "cell_type": "code",
   "execution_count": null,
   "metadata": {},
   "outputs": [],
   "source": [
    "print(f'size of the resulting dataframe is {toronto_venues.shape}')\n",
    "toronto_venues.head()"
   ]
  },
  {
   "cell_type": "markdown",
   "metadata": {},
   "source": [
    "## 4. Data Analysis and Results\n",
    "In this section, we analyze the data we set up until now. First, we analyze venues in each neighborhood. Then, we will cluster neighborhoods based on their borough, and then compare clusters against each other.\n",
    "### 4.1. Analyze data based on Neighborhoods\n",
    "\n",
    "Now that we obtained top venues of neighborhoods, let's check how many unique venues exist in the area."
   ]
  },
  {
   "cell_type": "code",
   "execution_count": null,
   "metadata": {},
   "outputs": [],
   "source": [
    "unique_venue = len(toronto_venues['Venue Category'].unique())\n",
    "print(f'There are {unique_venue} unique venue category')\n",
    "\n",
    "toronto_venues.groupby('Venue Category')['Venue Category'].count().sort_values(ascending=False)"
   ]
  },
  {
   "cell_type": "code",
   "execution_count": null,
   "metadata": {},
   "outputs": [],
   "source": [
    "top10_venues = toronto_venues.groupby('Venue Category')['Venue Category'].count().sort_values(ascending=False).head(10).keys().values.tolist()\n",
    "top10_venues"
   ]
  },
  {
   "cell_type": "code",
   "execution_count": null,
   "metadata": {},
   "outputs": [],
   "source": [
    "dict_10ven_neigh = {}\n",
    "for ven in top10_venues:\n",
    "    dict_10ven_neigh[ven] = {}\n",
    "    for neigh in CanPostCode['Neighborhood']:\n",
    "        try:\n",
    "            dict_10ven_neigh[ven][neigh] = toronto_venues.groupby(['Neighborhood','Venue Category']).count().loc[neigh].loc[ven , 'Venue']\n",
    "        except:    \n",
    "            dict_10ven_neigh[ven][neigh] = 0\n",
    "            \n",
    "df_10ven_neigh = pd.DataFrame(dict_10ven_neigh)\n",
    "df_10ven_neigh.reset_index(inplace = True) \n",
    "df_10ven_neigh.rename(columns = {\"index\" : \"Neighborhood\"} , inplace = True)"
   ]
  },
  {
   "cell_type": "code",
   "execution_count": null,
   "metadata": {},
   "outputs": [],
   "source": [
    "df_10ven_neigh['address']  = df_10ven_neigh[\"Neighborhood\"] + \" , \" + df_10ven_neigh[\"Neighborhood\"].apply(lambda item: Neigh_Bor_dic[item])\n",
    "df_10ven_neigh.head()"
   ]
  },
  {
   "cell_type": "markdown",
   "metadata": {},
   "source": [
    "As an example, let's see the 5 neighborhoods with the highest number of \"Coffee Shop\"."
   ]
  },
  {
   "cell_type": "code",
   "execution_count": null,
   "metadata": {},
   "outputs": [],
   "source": [
    "df_10ven_neigh.sort_values('Coffee Shop' , ascending=False).head(10)"
   ]
  },
  {
   "cell_type": "markdown",
   "metadata": {},
   "source": [
    "We loop over the *top 10 venues* to find the top 10 neighborhoods for each venue and plot them on a bar graph. "
   ]
  },
  {
   "cell_type": "code",
   "execution_count": null,
   "metadata": {},
   "outputs": [],
   "source": [
    "fig, axes = plt.subplots(10,1)\n",
    "fig.set_figheight(30)\n",
    "fig.set_figwidth(30)\n",
    "n = 0\n",
    "for ven in top10_venues:\n",
    "    df_10ven_neigh.sort_values(ven , ascending=False).head(10).plot(kind = 'barh' , x ='address' , y = ven , rot = 0 , ax = axes[n] , figsize = (5,30) )\n",
    "    n += 1\n",
    "plt.show()"
   ]
  },
  {
   "cell_type": "markdown",
   "metadata": {},
   "source": [
    "Same way, we can find neighborhoods with the lowest number of stores in the top 10 categories. This way, we can find neighborhoods with higher potential for successful investment."
   ]
  },
  {
   "cell_type": "code",
   "execution_count": null,
   "metadata": {},
   "outputs": [],
   "source": [
    "test = {}\n",
    "for ven in top10_venues:\n",
    "    test[ven] = df_10ven_neigh.sort_values(ven , ascending=False).tail(20)['Neighborhood'].values.tolist()\n",
    "pd.DataFrame(test)"
   ]
  },
  {
   "cell_type": "markdown",
   "metadata": {},
   "source": [
    "### 4.2 Analyze data based on Borough\n",
    "In this section, we group venues of the neighborhoods based on the borough they belong to. Then we plot the number of top venues in each borough. "
   ]
  },
  {
   "cell_type": "code",
   "execution_count": null,
   "metadata": {},
   "outputs": [],
   "source": [
    "Boroughs = CanPostCode[\"Borough\"].unique().tolist()\n",
    "Boroughs"
   ]
  },
  {
   "cell_type": "code",
   "execution_count": null,
   "metadata": {},
   "outputs": [],
   "source": [
    "dic_test = {}\n",
    "for brgh in Boroughs:\n",
    "    print(brgh)\n",
    "    brgh_df = CanPostCode[CanPostCode[\"Borough\"] == brgh].reset_index(drop=True)\n",
    "    brgh_venues = getNearbyVenues(names=brgh_df['Neighborhood'],\n",
    "                                   latitudes=brgh_df['lat'],\n",
    "                                   longitudes=brgh_df['long']\n",
    "                                  )\n",
    "    dic_test[brgh] = brgh_venues.groupby('Venue Category').count().sort_values(\"Neighborhood\" , ascending=False)"
   ]
  },
  {
   "cell_type": "code",
   "execution_count": null,
   "metadata": {},
   "outputs": [],
   "source": [
    "with open('Borough_venue.pkl', 'wb') as b_v:\n",
    "        pickle.dump(dic_test, b_v)        "
   ]
  },
  {
   "cell_type": "code",
   "execution_count": null,
   "metadata": {},
   "outputs": [],
   "source": [
    "with open('Borough_venue.pkl', 'rb') as b_v:\n",
    "        dic_test = pickle.load(b_v)"
   ]
  },
  {
   "cell_type": "code",
   "execution_count": null,
   "metadata": {},
   "outputs": [],
   "source": [
    "dict_10ven_bor = {}\n",
    "for ven in top10_venues:\n",
    "    dict_10ven_bor[ven] = {}\n",
    "    for bor in Boroughs:\n",
    "        try:\n",
    "            dict_10ven_bor[ven][bor] = toronto_venues.groupby(['Borough','Venue Category']).count().loc[bor].loc[ven , 'Venue']\n",
    "        except:    \n",
    "            dict_10ven_bor[ven][bor] = 0\n",
    "            \n",
    "df_10ven_bor = pd.DataFrame(dict_10ven_bor)\n",
    "df_10ven_bor.reset_index(inplace = True) \n",
    "df_10ven_bor.rename(columns = {\"index\" : \"Borough\"} , inplace = True)"
   ]
  },
  {
   "cell_type": "code",
   "execution_count": null,
   "metadata": {},
   "outputs": [],
   "source": [
    "df_10ven_bor"
   ]
  },
  {
   "cell_type": "code",
   "execution_count": null,
   "metadata": {},
   "outputs": [],
   "source": [
    "toronto_venues.head()"
   ]
  },
  {
   "cell_type": "code",
   "execution_count": null,
   "metadata": {},
   "outputs": [],
   "source": [
    "fig3, axes3 = plt.subplots(10,1)\n",
    "fig3.set_figheight(30)\n",
    "fig3.set_figwidth(30)\n",
    "n = 0\n",
    "for ven in top10_venues:\n",
    "    df_10ven_bor.sort_values(ven , ascending=False).head(9).plot(kind = 'barh' , x ='Borough' , y = ven , rot = 0 , ax = axes3[n] , figsize = (5,30) )\n",
    "    n += 1\n",
    "plt.show()"
   ]
  },
  {
   "cell_type": "markdown",
   "metadata": {},
   "source": [
    "This information enables investors to make better investing decisions. "
   ]
  },
  {
   "cell_type": "markdown",
   "metadata": {},
   "source": [
    "#### 4.2.1 Boroughs' food diversity \n",
    "In this section, we narrow the type of venues down to the different food categories. This way, we can analyze the diversity of each borough based on the variety of popular food categories."
   ]
  },
  {
   "cell_type": "code",
   "execution_count": null,
   "metadata": {},
   "outputs": [],
   "source": [
    "food_categories = ['Pizza Place' , 'Sandwich Place' , 'Fast Food Restaurant' , 'Japanese Restaurant' ,\n",
    "                  'Italian Restaurant' , 'Vietnamese Restaurant' , 'Sushi Restaurant' , 'Korean Restaurant' , \n",
    "                   'Thai Restaurant'  , 'American Restaurant',\n",
    "                  'Ramen Restaurant' , 'Indian Restaurant' , 'Steakhouse' , 'Seafood Restaurant',\n",
    "                  'Chinese Restaurant' , 'Burrito Place' , 'Middle Eastern Restaurant' , 'Greek Restaurant' ,\n",
    "                  'Asian Restaurant' , 'Fried Chicken Joint' , 'Burger Joint' , 'New American Restaurant' ,'Falafel Restaurant',\n",
    "                  'Caribbean Restaurant' , 'BBQ Joint' , 'Vegetarian / Vegan Restaurant' , 'Turkish Restaurant' ]"
   ]
  },
  {
   "cell_type": "code",
   "execution_count": null,
   "metadata": {},
   "outputs": [],
   "source": [
    "toronto_venues_food = toronto_venues[toronto_venues['Venue Category'].isin(food_categories)]\n",
    "toronto_venues_food.head()"
   ]
  },
  {
   "cell_type": "code",
   "execution_count": null,
   "metadata": {},
   "outputs": [],
   "source": [
    "top5_venues_food = toronto_venues_food.groupby('Venue Category')['Venue Category'].count().sort_values(ascending=False).head(5).keys().values.tolist()\n",
    "top5_venues_food"
   ]
  },
  {
   "cell_type": "markdown",
   "metadata": {},
   "source": [
    "### 4.2.2 Boroughs and top 5 restaurant categories"
   ]
  },
  {
   "cell_type": "markdown",
   "metadata": {},
   "source": [
    "In the previous section, we found the top five restaurant categories in Toronto. Now we are going to calculate how many of these top five restaurants are located in each borough."
   ]
  },
  {
   "cell_type": "code",
   "execution_count": null,
   "metadata": {},
   "outputs": [],
   "source": [
    "dict_5food_bor = {}\n",
    "for ven in top5_venues_food:\n",
    "    dict_5food_bor[ven] = {}\n",
    "    for bor in Boroughs:\n",
    "        try:\n",
    "            dict_5food_bor[ven][bor] = toronto_venues_food.groupby(['Borough','Venue Category']).count().loc[bor].loc[ven , 'Venue']\n",
    "        except:    \n",
    "            dict_5food_bor[ven][bor] = 0\n",
    "            \n",
    "df_5food_bor = pd.DataFrame(dict_5food_bor)\n",
    "df_5food_bor.reset_index(inplace = True) \n",
    "df_5food_bor.rename(columns = {\"index\" : \"Borough\"} , inplace = True)"
   ]
  },
  {
   "cell_type": "code",
   "execution_count": null,
   "metadata": {},
   "outputs": [],
   "source": [
    "df_5food_bor"
   ]
  },
  {
   "cell_type": "code",
   "execution_count": null,
   "metadata": {},
   "outputs": [],
   "source": [
    "fig4, axes4 = plt.subplots(5,1)\n",
    "fig4.set_figheight(30)\n",
    "fig4.set_figwidth(30)\n",
    "n = 0\n",
    "for ven in top5_venues_food:\n",
    "    df_5food_bor.sort_values(ven , ascending=False).head(9).plot(kind = 'barh' , x ='Borough' , y = ven , rot = 0 , ax = axes4[n] , figsize = (5,30) )\n",
    "    n += 1\n",
    "plt.show()"
   ]
  },
  {
   "cell_type": "code",
   "execution_count": null,
   "metadata": {},
   "outputs": [],
   "source": [
    "df_5food_bor.set_index('Borough' , inplace = True)\n",
    "df_5food_bor"
   ]
  },
  {
   "cell_type": "markdown",
   "metadata": {},
   "source": [
    "## Cluster Boroughs\n",
    "k-means clustering is a simple but useful and popular, unsupervised machine learning algorithm that is used to categorized data into clusters. The clustered data share some similar characteristics. We use this algorithm to cluster similar boroughs and find out which boroughs share the same characteristics and how.\n",
    "\n",
    "Determining the optimal number of clusters in this method is a frequent problem in data clustering. The optimal number of clusters can be achieved by *The Elbow Method* or *The Silhouette Method*.\n",
    "\n",
    "**The elbow method** runs k-means clustering for a range of different values of k, and for each value of k, it computes an average score for all clusters."
   ]
  },
  {
   "cell_type": "code",
   "execution_count": null,
   "metadata": {},
   "outputs": [],
   "source": [
    "sum_of_squared_distances = []\n",
    "K = range(1,8)\n",
    "for k in K:\n",
    "    print(k, end=' ')\n",
    "    kmeans = KMeans(n_clusters=k).fit(df_5food_bor)\n",
    "    sum_of_squared_distances.append(kmeans.inertia_)\n",
    "plt.plot(K, sum_of_squared_distances, 'bx-')\n",
    "plt.xlabel('k')\n",
    "plt.ylabel('sum_of_squared_distances')\n",
    "plt.title('Elbow Method For Optimal k');"
   ]
  },
  {
   "cell_type": "markdown",
   "metadata": {},
   "source": [
    "Apprantly, Elbow Method does not reveal any useful information about the optimal number of clusters. Therefore, we use the other method.\n",
    "\n",
    "**The Silhouette Method**  examines how well a data point lies within its cluster compared to the other clusters."
   ]
  },
  {
   "cell_type": "code",
   "execution_count": null,
   "metadata": {},
   "outputs": [],
   "source": [
    "sil = []\n",
    "K_sil = range(2,9)\n",
    "# minimum 2 clusters required, to define dissimilarity\n",
    "for k in K_sil:\n",
    "    print(k, end=' ')\n",
    "    kmeans = KMeans(n_clusters = k).fit(df_5food_bor)\n",
    "    labels = kmeans.labels_\n",
    "    sil.append(silhouette_score(df_5food_bor, labels, metric = 'euclidean'))\n",
    "plt.plot(K_sil, sil, 'bx-')\n",
    "plt.xlabel('k')\n",
    "plt.ylabel('silhouette_score')\n",
    "plt.title('Silhouette Method For Optimal k')\n",
    "plt.show()"
   ]
  },
  {
   "cell_type": "markdown",
   "metadata": {},
   "source": [
    "Since k = 2 shows a very poor performance with broad classification, we select k = 4 as there is a peak at k =4."
   ]
  },
  {
   "cell_type": "code",
   "execution_count": null,
   "metadata": {},
   "outputs": [],
   "source": [
    "# set number of clusters\n",
    "kclusters = 4\n",
    "\n",
    "# run k-means clustering\n",
    "kmeans = KMeans(init=\"k-means++\", n_clusters=kclusters, n_init=50).fit(df_5food_bor)\n",
    "\n",
    "print(Counter(kmeans.labels_))"
   ]
  },
  {
   "cell_type": "markdown",
   "metadata": {},
   "source": [
    "Now we add the cluster column to the dataframe that shows cluster number of each Borough."
   ]
  },
  {
   "cell_type": "code",
   "execution_count": null,
   "metadata": {},
   "outputs": [],
   "source": [
    "# add clustering labels\n",
    "try: \n",
    "    df_5food_bor.drop('Cluster', axis=1)\n",
    "except:\n",
    "    df_5food_bor.insert(0, 'Cluster', kmeans.labels_)\n",
    "df_5food_bor"
   ]
  },
  {
   "cell_type": "markdown",
   "metadata": {},
   "source": [
    "## Let's have a closer look to each group."
   ]
  },
  {
   "cell_type": "markdown",
   "metadata": {},
   "source": [
    "#### Group 1: Fast Food and Pizza Place"
   ]
  },
  {
   "cell_type": "code",
   "execution_count": null,
   "metadata": {},
   "outputs": [],
   "source": [
    "df_5food_bor[df_5food_bor[\"Cluster\"] == 0]"
   ]
  },
  {
   "cell_type": "markdown",
   "metadata": {},
   "source": [
    "Restaurants located in boroughs of group 1, are mainly **fast food** and **pizza place**"
   ]
  },
  {
   "cell_type": "markdown",
   "metadata": {},
   "source": [
    "#### Group 2: Italian, Asian and Japanese"
   ]
  },
  {
   "cell_type": "code",
   "execution_count": null,
   "metadata": {},
   "outputs": [],
   "source": [
    "df_5food_bor[df_5food_bor[\"Cluster\"] == 1]"
   ]
  },
  {
   "cell_type": "markdown",
   "metadata": {},
   "source": [
    "As expected, the highest concentration of restaurants is in downtown Toronto. Therefore, Downtown Toronto is grouped by itself. **Italian**, **Asian** and **Japanese** restaurants, are the main three types of the restaurant in Downtown Toronto."
   ]
  },
  {
   "cell_type": "markdown",
   "metadata": {},
   "source": [
    "#### Group 3: Low Concentration of Restaurants and No Fast Food"
   ]
  },
  {
   "cell_type": "code",
   "execution_count": null,
   "metadata": {},
   "outputs": [],
   "source": [
    "df_5food_bor[df_5food_bor[\"Cluster\"] == 2]"
   ]
  },
  {
   "cell_type": "markdown",
   "metadata": {},
   "source": [
    "The concentration of restaurants in the Boroughs clustered in Group 4 is low, and they have almost the same number of restaurants from different categories. It is observed that there are not that many fast food restaurants in this group."
   ]
  },
  {
   "cell_type": "markdown",
   "metadata": {},
   "source": [
    "#### Group 4: Italian Restaurant and Pizza Place"
   ]
  },
  {
   "cell_type": "code",
   "execution_count": null,
   "metadata": {},
   "outputs": [],
   "source": [
    "df_5food_bor[df_5food_bor[\"Cluster\"] == 3]"
   ]
  },
  {
   "cell_type": "markdown",
   "metadata": {},
   "source": [
    "Restaurants in Group 4 are mainly **Italian Restaurants** and **Pizza Places**. "
   ]
  },
  {
   "cell_type": "code",
   "execution_count": null,
   "metadata": {},
   "outputs": [],
   "source": [
    "df_5food_bor.reset_index(inplace = True)"
   ]
  },
  {
   "cell_type": "code",
   "execution_count": null,
   "metadata": {},
   "outputs": [],
   "source": [
    "Cluster_Borough = pd.Series(df_5food_bor.Cluster.values,index=df_5food_bor.Borough).to_dict()\n",
    "Cluster_Borough"
   ]
  },
  {
   "cell_type": "markdown",
   "metadata": {},
   "source": [
    "The plot of Toronto with all its neighborhoods is shown at the beginning of this notebook. Now, we plot that map again but this time we match colors of neighborhoods whose Boroughs fall into the same category. "
   ]
  },
  {
   "cell_type": "code",
   "execution_count": null,
   "metadata": {},
   "outputs": [],
   "source": [
    "# set color scheme for the clusters\n",
    "colors_array = cm.rainbow(np.linspace(0, 1, kclusters+1)) # plus one because of Mississauga\n",
    "rainbow = [colors.rgb2hex(i) for i in colors_array]\n",
    "\n",
    "rainbow = ['red' , 'blue' , 'green' , 'yellow' , 'white' , 'black']\n",
    "# create map of Toronto using latitude and longitude values\n",
    "latitude = 43.6534817\n",
    "longitude = -79.3839347\n",
    "map_tor = folium.Map(location=[latitude, longitude], zoom_start=10)\n",
    "\n",
    "# add markers to map\n",
    "for lat, lng, borough, neighborhood ,  in zip(CanPostCode['lat'], CanPostCode['long'], CanPostCode['Borough'], CanPostCode['Neighborhood']):\n",
    "    label = '{}, {}'.format(neighborhood, borough)\n",
    "    label = folium.Popup(label, parse_html=True)\n",
    "    cluster = Cluster_Borough[borough]\n",
    "    folium.CircleMarker(\n",
    "        [lat, lng],\n",
    "        radius=5,\n",
    "        popup=label,\n",
    "        color=rainbow[cluster-1],\n",
    "        fill=True,\n",
    "        fill_color=rainbow[cluster-1],\n",
    "        fill_opacity=0.7).add_to(map_tor) \n",
    "    \n",
    "map_tor"
   ]
  },
  {
   "cell_type": "markdown",
   "metadata": {},
   "source": [
    "### 4.2.2 Top five restaurants in each Borough"
   ]
  },
  {
   "cell_type": "markdown",
   "metadata": {},
   "source": [
    "In the previous section, we examined the Boroughs against the top five popular restaurants in Toronto. Since the restaurants' concentration varies based on location, we explore the top five restaurants in each Borough. This gives us a better understanding on how diverse each area is."
   ]
  },
  {
   "cell_type": "code",
   "execution_count": null,
   "metadata": {},
   "outputs": [],
   "source": [
    "dict_Bor_5food = {}\n",
    "for brgh in Boroughs:\n",
    "    temp = dic_test[brgh].reset_index()\n",
    "    if len(temp[temp['Venue Category'].isin(food_categories)].reset_index()['Venue Category'].tolist()) >= 5:\n",
    "        dict_Bor_5food[brgh] = temp[temp['Venue Category'].isin(food_categories)].reset_index()['Venue Category'].head(5).tolist()\n",
    "    dict_Bor_5food"
   ]
  },
  {
   "cell_type": "code",
   "execution_count": null,
   "metadata": {},
   "outputs": [],
   "source": [
    "Bor_5food_df = pd.DataFrame.from_dict(dict_Bor_5food , orient='index')\n",
    "Bor_5food_df.rename(columns = {0: '1st most common' , 1: '2nd most common' , 2: '3rd most common' , 3: '4th most common' ,\n",
    "                              4 : '5th most common'})"
   ]
  },
  {
   "cell_type": "markdown",
   "metadata": {},
   "source": [
    "### Cluster Boroughs\n",
    "\n",
    "We need get_dummies to convet the categorical variable to indicator variables so we can analyse them with k-means clustering method."
   ]
  },
  {
   "cell_type": "code",
   "execution_count": null,
   "metadata": {},
   "outputs": [],
   "source": [
    "toronto_onehot = pd.get_dummies(Bor_5food_df)\n",
    "toronto_onehot"
   ]
  },
  {
   "cell_type": "markdown",
   "metadata": {},
   "source": [
    "We are going to take exact same steps that we took in the previous section to find the optimal number of clusters."
   ]
  },
  {
   "cell_type": "code",
   "execution_count": null,
   "metadata": {},
   "outputs": [],
   "source": [
    "sum_of_squared_distances = []\n",
    "K = range(1,10)\n",
    "for k in K:\n",
    "    print(k, end=' ')\n",
    "    kmeans = KMeans(n_clusters=k).fit(toronto_onehot)\n",
    "    sum_of_squared_distances.append(kmeans.inertia_)"
   ]
  },
  {
   "cell_type": "code",
   "execution_count": null,
   "metadata": {},
   "outputs": [],
   "source": [
    "plt.plot(K, sum_of_squared_distances, 'bx-')\n",
    "plt.xlabel('k')\n",
    "plt.ylabel('sum_of_squared_distances')\n",
    "plt.title('Elbow Method For Optimal k');"
   ]
  },
  {
   "cell_type": "code",
   "execution_count": null,
   "metadata": {},
   "outputs": [],
   "source": [
    "sil = []\n",
    "K_sil = range(2,9)\n",
    "# minimum 2 clusters required, to define dissimilarity\n",
    "for k in K_sil:\n",
    "    print(k, end=' ')\n",
    "    kmeans = KMeans(n_clusters = k).fit(toronto_onehot)\n",
    "    labels = kmeans.labels_\n",
    "    sil.append(silhouette_score(toronto_onehot, labels, metric = 'euclidean'))"
   ]
  },
  {
   "cell_type": "code",
   "execution_count": null,
   "metadata": {},
   "outputs": [],
   "source": [
    "plt.plot(K_sil, sil, 'bx-')\n",
    "plt.xlabel('k')\n",
    "plt.ylabel('silhouette_score')\n",
    "plt.title('Silhouette Method For Optimal k')\n",
    "plt.show()\n"
   ]
  },
  {
   "cell_type": "code",
   "execution_count": null,
   "metadata": {},
   "outputs": [],
   "source": [
    "# set number of clusters\n",
    "kclusters = 4\n",
    "\n",
    "# run k-means clustering\n",
    "kmeans = KMeans(init=\"k-means++\", n_clusters=kclusters, n_init=50).fit(toronto_onehot)\n",
    "\n",
    "print(Counter(kmeans.labels_))"
   ]
  },
  {
   "cell_type": "code",
   "execution_count": null,
   "metadata": {},
   "outputs": [],
   "source": [
    "# add clustering labels\n",
    "try:\n",
    "    Bor_5food_df.drop('Cluster', axis=1)\n",
    "except:\n",
    "    Bor_5food_df.insert(0, 'Cluster', kmeans.labels_)"
   ]
  },
  {
   "cell_type": "code",
   "execution_count": null,
   "metadata": {},
   "outputs": [],
   "source": [
    "Bor_5food_df.reset_index(inplace = True)"
   ]
  },
  {
   "cell_type": "code",
   "execution_count": null,
   "metadata": {},
   "outputs": [],
   "source": [
    "Bor_5food_df.rename(columns = {'index' : 'Borough'} , inplace = True)"
   ]
  },
  {
   "cell_type": "code",
   "execution_count": null,
   "metadata": {},
   "outputs": [],
   "source": [
    "Bor_5food_df.sort_values(['Cluster'])"
   ]
  },
  {
   "cell_type": "markdown",
   "metadata": {},
   "source": [
    "### Group1: Italian Restaurant"
   ]
  },
  {
   "cell_type": "code",
   "execution_count": null,
   "metadata": {},
   "outputs": [],
   "source": [
    "Bor_5food_df[Bor_5food_df[\"Cluster\"] == 0]"
   ]
  },
  {
   "cell_type": "markdown",
   "metadata": {},
   "source": [
    "### Group2: Italian Restaurant, Pizza Place, Indian Restuarant"
   ]
  },
  {
   "cell_type": "code",
   "execution_count": null,
   "metadata": {},
   "outputs": [],
   "source": [
    "Bor_5food_df[Bor_5food_df[\"Cluster\"] == 1]"
   ]
  },
  {
   "cell_type": "markdown",
   "metadata": {},
   "source": [
    "### Group3: Fast Food, Sandwich Place, Pizza Place"
   ]
  },
  {
   "cell_type": "code",
   "execution_count": null,
   "metadata": {},
   "outputs": [],
   "source": [
    "Bor_5food_df[Bor_5food_df[\"Cluster\"] == 2]"
   ]
  },
  {
   "cell_type": "markdown",
   "metadata": {},
   "source": [
    "### Group4: Italian Restaurant, Vietnamese Restaurant"
   ]
  },
  {
   "cell_type": "code",
   "execution_count": null,
   "metadata": {},
   "outputs": [],
   "source": [
    "Bor_5food_df[Bor_5food_df[\"Cluster\"] == 3]"
   ]
  },
  {
   "cell_type": "markdown",
   "metadata": {},
   "source": [
    "We plot map of toronto while all the neighborhoods are colored based on their Boroughs' clusters. "
   ]
  },
  {
   "cell_type": "code",
   "execution_count": null,
   "metadata": {},
   "outputs": [],
   "source": [
    "Cluster_Borough = pd.Series(Bor_5food_df.Cluster.values,index=Bor_5food_df.Borough).to_dict()\n",
    "Cluster_Borough\n",
    "# set color scheme for the clusters\n",
    "colors_array = cm.rainbow(np.linspace(0, 1, kclusters+1)) # plus one because of Mississauga\n",
    "rainbow = [colors.rgb2hex(i) for i in colors_array]\n",
    "\n",
    "rainbow = ['red' , 'blue' , 'green' , 'yellow' , 'white' , 'black']\n",
    "# create map of Toronto using latitude and longitude values\n",
    "latitude = 43.6534817\n",
    "longitude = -79.3839347\n",
    "map_tor = folium.Map(location=[latitude, longitude], zoom_start=10)\n",
    "\n",
    "# add markers to map\n",
    "for lat, lng, borough, neighborhood ,  in zip(CanPostCode['lat'], CanPostCode['long'], CanPostCode['Borough'], CanPostCode['Neighborhood']):\n",
    "    label = '{}, {}'.format(neighborhood, borough)\n",
    "    label = folium.Popup(label, parse_html=True)\n",
    "    cluster = Cluster_Borough[borough]\n",
    "    folium.CircleMarker(\n",
    "        [lat, lng],\n",
    "        radius=5,\n",
    "        popup=label,\n",
    "        color=rainbow[cluster-1],\n",
    "        fill=True,\n",
    "        fill_color=rainbow[cluster-1],\n",
    "        fill_opacity=0.7).add_to(map_tor) \n",
    "    \n",
    "map_tor"
   ]
  },
  {
   "cell_type": "markdown",
   "metadata": {},
   "source": [
    "## Results"
   ]
  },
  {
   "cell_type": "code",
   "execution_count": null,
   "metadata": {},
   "outputs": [],
   "source": []
  },
  {
   "cell_type": "code",
   "execution_count": null,
   "metadata": {},
   "outputs": [],
   "source": []
  },
  {
   "cell_type": "code",
   "execution_count": null,
   "metadata": {},
   "outputs": [],
   "source": []
  },
  {
   "cell_type": "code",
   "execution_count": null,
   "metadata": {},
   "outputs": [],
   "source": []
  },
  {
   "cell_type": "code",
   "execution_count": null,
   "metadata": {},
   "outputs": [],
   "source": []
  },
  {
   "cell_type": "code",
   "execution_count": null,
   "metadata": {},
   "outputs": [],
   "source": []
  }
 ],
 "metadata": {
  "kernelspec": {
   "display_name": "Python 3",
   "language": "python",
   "name": "python3"
  },
  "language_info": {
   "codemirror_mode": {
    "name": "ipython",
    "version": 3
   },
   "file_extension": ".py",
   "mimetype": "text/x-python",
   "name": "python",
   "nbconvert_exporter": "python",
   "pygments_lexer": "ipython3",
   "version": "3.7.0"
  }
 },
 "nbformat": 4,
 "nbformat_minor": 1
}
