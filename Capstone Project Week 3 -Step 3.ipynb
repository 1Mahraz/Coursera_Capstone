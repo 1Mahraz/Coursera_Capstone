{
 "cells": [
  {
   "cell_type": "markdown",
   "metadata": {},
   "source": [
    "# Capstone Project Week 3"
   ]
  },
  {
   "cell_type": "markdown",
   "metadata": {},
   "source": [
    "#### Change this cell to **code** if run it for the first time\n",
    "!pip install beautifulsoup4\n",
    "\n",
    "!pip install lxml\n",
    "\n",
    "!pip install html5lib\n",
    "\n",
    "!pip install requests"
   ]
  },
  {
   "cell_type": "code",
   "execution_count": 1,
   "metadata": {},
   "outputs": [],
   "source": [
    "from bs4 import BeautifulSoup\n",
    "import requests"
   ]
  },
  {
   "cell_type": "markdown",
   "metadata": {},
   "source": [
    "Extract the source of the wikipedia page and find the postal code table on that page:"
   ]
  },
  {
   "cell_type": "code",
   "execution_count": 2,
   "metadata": {},
   "outputs": [
    {
     "name": "stdout",
     "output_type": "stream",
     "text": [
      "\n",
      "Postal Code\n",
      "\n",
      "Borough\n",
      "\n",
      "Neighborhood\n",
      "\n"
     ]
    }
   ],
   "source": [
    "source = requests.get(\"https://en.wikipedia.org/wiki/List_of_postal_codes_of_Canada:_M\").text\n",
    "soup = BeautifulSoup(source, 'lxml')\n",
    "table = soup.find('table')\n",
    "table_head = table.thead\n",
    "table_body = table.tbody\n",
    "pcodes = table_body.find_all() \n",
    "print(table.tbody.tr.text)"
   ]
  },
  {
   "cell_type": "markdown",
   "metadata": {},
   "source": [
    "Wrtie the postal code table information into a csv file."
   ]
  },
  {
   "cell_type": "code",
   "execution_count": 9,
   "metadata": {},
   "outputs": [],
   "source": [
    "import csv\n",
    "csv_file = open('table_file.csv' , 'w')\n",
    "csv_writer = csv.writer(csv_file)\n",
    "csv_writer.writerow(['Postal Code' , 'Borough' , 'Neighborhood'])\n",
    "\n",
    "pcodes = table_body.find_all('tr')\n",
    "for item in pcodes:\n",
    "    subitem_list = []\n",
    "    for subitem in item.find_all('td'):\n",
    "        subitem_list.append( subitem.text.split( \"\\n\")[0] )\n",
    "    csv_writer.writerow(subitem_list)\n",
    "csv_file.close()"
   ]
  },
  {
   "cell_type": "markdown",
   "metadata": {},
   "source": [
    "Create a data frame from the saved CSV file:"
   ]
  },
  {
   "cell_type": "code",
   "execution_count": 20,
   "metadata": {},
   "outputs": [
    {
     "name": "stdout",
     "output_type": "stream",
     "text": [
      "  Postal Code           Borough               Neighborhood\n",
      "0         M1A      Not assigned                        NaN\n",
      "1         M2A      Not assigned                        NaN\n",
      "2         M3A        North York                  Parkwoods\n",
      "3         M4A        North York           Victoria Village\n",
      "4         M5A  Downtown Toronto  Regent Park, Harbourfront\n"
     ]
    }
   ],
   "source": [
    "import pandas as pd\n",
    "CanPostCode = pd.read_csv('table_file.csv')\n",
    "print(CanPostCode.head())"
   ]
  },
  {
   "cell_type": "markdown",
   "metadata": {},
   "source": [
    "Remove the rows whose Borough or Neighborhood values are **NAN**:"
   ]
  },
  {
   "cell_type": "code",
   "execution_count": 21,
   "metadata": {},
   "outputs": [
    {
     "data": {
      "text/html": [
       "<div>\n",
       "<style scoped>\n",
       "    .dataframe tbody tr th:only-of-type {\n",
       "        vertical-align: middle;\n",
       "    }\n",
       "\n",
       "    .dataframe tbody tr th {\n",
       "        vertical-align: top;\n",
       "    }\n",
       "\n",
       "    .dataframe thead th {\n",
       "        text-align: right;\n",
       "    }\n",
       "</style>\n",
       "<table border=\"1\" class=\"dataframe\">\n",
       "  <thead>\n",
       "    <tr style=\"text-align: right;\">\n",
       "      <th></th>\n",
       "      <th>Postal Code</th>\n",
       "      <th>Borough</th>\n",
       "      <th>Neighborhood</th>\n",
       "    </tr>\n",
       "  </thead>\n",
       "  <tbody>\n",
       "    <tr>\n",
       "      <th>2</th>\n",
       "      <td>M3A</td>\n",
       "      <td>North York</td>\n",
       "      <td>Parkwoods</td>\n",
       "    </tr>\n",
       "    <tr>\n",
       "      <th>3</th>\n",
       "      <td>M4A</td>\n",
       "      <td>North York</td>\n",
       "      <td>Victoria Village</td>\n",
       "    </tr>\n",
       "    <tr>\n",
       "      <th>4</th>\n",
       "      <td>M5A</td>\n",
       "      <td>Downtown Toronto</td>\n",
       "      <td>Regent Park, Harbourfront</td>\n",
       "    </tr>\n",
       "    <tr>\n",
       "      <th>5</th>\n",
       "      <td>M6A</td>\n",
       "      <td>North York</td>\n",
       "      <td>Lawrence Manor, Lawrence Heights</td>\n",
       "    </tr>\n",
       "    <tr>\n",
       "      <th>6</th>\n",
       "      <td>M7A</td>\n",
       "      <td>Downtown Toronto</td>\n",
       "      <td>Queen's Park, Ontario Provincial Government</td>\n",
       "    </tr>\n",
       "  </tbody>\n",
       "</table>\n",
       "</div>"
      ],
      "text/plain": [
       "  Postal Code           Borough                                 Neighborhood\n",
       "2         M3A        North York                                    Parkwoods\n",
       "3         M4A        North York                             Victoria Village\n",
       "4         M5A  Downtown Toronto                    Regent Park, Harbourfront\n",
       "5         M6A        North York             Lawrence Manor, Lawrence Heights\n",
       "6         M7A  Downtown Toronto  Queen's Park, Ontario Provincial Government"
      ]
     },
     "execution_count": 21,
     "metadata": {},
     "output_type": "execute_result"
    }
   ],
   "source": [
    "CanPostCode.drop( CanPostCode[ CanPostCode['Borough'] == 'Not assigned'].index , inplace = True)\n",
    "CanPostCode.drop( CanPostCode[ CanPostCode['Neighborhood'] == 'Not assigned'].index , inplace = True)\n",
    "CanPostCode.head(5)"
   ]
  },
  {
   "cell_type": "code",
   "execution_count": 22,
   "metadata": {},
   "outputs": [
    {
     "data": {
      "text/plain": [
       "(103, 3)"
      ]
     },
     "execution_count": 22,
     "metadata": {},
     "output_type": "execute_result"
    }
   ],
   "source": [
    "CanPostCode.shape"
   ]
  },
  {
   "cell_type": "code",
   "execution_count": 23,
   "metadata": {},
   "outputs": [
    {
     "data": {
      "text/html": [
       "<div>\n",
       "<style scoped>\n",
       "    .dataframe tbody tr th:only-of-type {\n",
       "        vertical-align: middle;\n",
       "    }\n",
       "\n",
       "    .dataframe tbody tr th {\n",
       "        vertical-align: top;\n",
       "    }\n",
       "\n",
       "    .dataframe thead th {\n",
       "        text-align: right;\n",
       "    }\n",
       "</style>\n",
       "<table border=\"1\" class=\"dataframe\">\n",
       "  <thead>\n",
       "    <tr style=\"text-align: right;\">\n",
       "      <th></th>\n",
       "      <th>Postal Code</th>\n",
       "      <th>Latitude</th>\n",
       "      <th>Longitude</th>\n",
       "    </tr>\n",
       "  </thead>\n",
       "  <tbody>\n",
       "    <tr>\n",
       "      <th>0</th>\n",
       "      <td>M1B</td>\n",
       "      <td>43.806686</td>\n",
       "      <td>-79.194353</td>\n",
       "    </tr>\n",
       "    <tr>\n",
       "      <th>1</th>\n",
       "      <td>M1C</td>\n",
       "      <td>43.784535</td>\n",
       "      <td>-79.160497</td>\n",
       "    </tr>\n",
       "    <tr>\n",
       "      <th>2</th>\n",
       "      <td>M1E</td>\n",
       "      <td>43.763573</td>\n",
       "      <td>-79.188711</td>\n",
       "    </tr>\n",
       "    <tr>\n",
       "      <th>3</th>\n",
       "      <td>M1G</td>\n",
       "      <td>43.770992</td>\n",
       "      <td>-79.216917</td>\n",
       "    </tr>\n",
       "    <tr>\n",
       "      <th>4</th>\n",
       "      <td>M1H</td>\n",
       "      <td>43.773136</td>\n",
       "      <td>-79.239476</td>\n",
       "    </tr>\n",
       "  </tbody>\n",
       "</table>\n",
       "</div>"
      ],
      "text/plain": [
       "  Postal Code   Latitude  Longitude\n",
       "0         M1B  43.806686 -79.194353\n",
       "1         M1C  43.784535 -79.160497\n",
       "2         M1E  43.763573 -79.188711\n",
       "3         M1G  43.770992 -79.216917\n",
       "4         M1H  43.773136 -79.239476"
      ]
     },
     "execution_count": 23,
     "metadata": {},
     "output_type": "execute_result"
    }
   ],
   "source": [
    "CanPostCode_Stp2 = pd.read_csv('https://cocl.us/Geospatial_data')\n",
    "CanPostCode_Stp2.head()"
   ]
  },
  {
   "cell_type": "code",
   "execution_count": 24,
   "metadata": {},
   "outputs": [
    {
     "data": {
      "text/html": [
       "<div>\n",
       "<style scoped>\n",
       "    .dataframe tbody tr th:only-of-type {\n",
       "        vertical-align: middle;\n",
       "    }\n",
       "\n",
       "    .dataframe tbody tr th {\n",
       "        vertical-align: top;\n",
       "    }\n",
       "\n",
       "    .dataframe thead th {\n",
       "        text-align: right;\n",
       "    }\n",
       "</style>\n",
       "<table border=\"1\" class=\"dataframe\">\n",
       "  <thead>\n",
       "    <tr style=\"text-align: right;\">\n",
       "      <th></th>\n",
       "      <th>Postal Code</th>\n",
       "      <th>Borough</th>\n",
       "      <th>Neighborhood</th>\n",
       "      <th>Latitude</th>\n",
       "      <th>Longitude</th>\n",
       "    </tr>\n",
       "  </thead>\n",
       "  <tbody>\n",
       "    <tr>\n",
       "      <th>0</th>\n",
       "      <td>M3A</td>\n",
       "      <td>North York</td>\n",
       "      <td>Parkwoods</td>\n",
       "      <td>43.753259</td>\n",
       "      <td>-79.329656</td>\n",
       "    </tr>\n",
       "    <tr>\n",
       "      <th>1</th>\n",
       "      <td>M4A</td>\n",
       "      <td>North York</td>\n",
       "      <td>Victoria Village</td>\n",
       "      <td>43.725882</td>\n",
       "      <td>-79.315572</td>\n",
       "    </tr>\n",
       "    <tr>\n",
       "      <th>2</th>\n",
       "      <td>M5A</td>\n",
       "      <td>Downtown Toronto</td>\n",
       "      <td>Regent Park, Harbourfront</td>\n",
       "      <td>43.654260</td>\n",
       "      <td>-79.360636</td>\n",
       "    </tr>\n",
       "    <tr>\n",
       "      <th>3</th>\n",
       "      <td>M6A</td>\n",
       "      <td>North York</td>\n",
       "      <td>Lawrence Manor, Lawrence Heights</td>\n",
       "      <td>43.718518</td>\n",
       "      <td>-79.464763</td>\n",
       "    </tr>\n",
       "    <tr>\n",
       "      <th>4</th>\n",
       "      <td>M7A</td>\n",
       "      <td>Downtown Toronto</td>\n",
       "      <td>Queen's Park, Ontario Provincial Government</td>\n",
       "      <td>43.662301</td>\n",
       "      <td>-79.389494</td>\n",
       "    </tr>\n",
       "  </tbody>\n",
       "</table>\n",
       "</div>"
      ],
      "text/plain": [
       "  Postal Code           Borough                                 Neighborhood  \\\n",
       "0         M3A        North York                                    Parkwoods   \n",
       "1         M4A        North York                             Victoria Village   \n",
       "2         M5A  Downtown Toronto                    Regent Park, Harbourfront   \n",
       "3         M6A        North York             Lawrence Manor, Lawrence Heights   \n",
       "4         M7A  Downtown Toronto  Queen's Park, Ontario Provincial Government   \n",
       "\n",
       "    Latitude  Longitude  \n",
       "0  43.753259 -79.329656  \n",
       "1  43.725882 -79.315572  \n",
       "2  43.654260 -79.360636  \n",
       "3  43.718518 -79.464763  \n",
       "4  43.662301 -79.389494  "
      ]
     },
     "execution_count": 24,
     "metadata": {},
     "output_type": "execute_result"
    }
   ],
   "source": [
    "CanPostCode = pd.merge(CanPostCode, CanPostCode_Stp2, on=\"Postal Code\" , how = 'left')\n",
    "CanPostCode.head()"
   ]
  },
  {
   "cell_type": "code",
   "execution_count": 25,
   "metadata": {},
   "outputs": [
    {
     "name": "stdout",
     "output_type": "stream",
     "text": [
      "The data fram has 10 unique boroughs and 103 neighborhood\n",
      "['North York' 'Downtown Toronto' 'Etobicoke' 'Scarborough' 'East York'\n",
      " 'York' 'East Toronto' 'West Toronto' 'Central Toronto' 'Mississauga']\n"
     ]
    },
    {
     "data": {
      "text/html": [
       "<div>\n",
       "<style scoped>\n",
       "    .dataframe tbody tr th:only-of-type {\n",
       "        vertical-align: middle;\n",
       "    }\n",
       "\n",
       "    .dataframe tbody tr th {\n",
       "        vertical-align: top;\n",
       "    }\n",
       "\n",
       "    .dataframe thead th {\n",
       "        text-align: right;\n",
       "    }\n",
       "</style>\n",
       "<table border=\"1\" class=\"dataframe\">\n",
       "  <thead>\n",
       "    <tr style=\"text-align: right;\">\n",
       "      <th></th>\n",
       "      <th>Postal Code</th>\n",
       "      <th>Neighborhood</th>\n",
       "      <th>Latitude</th>\n",
       "      <th>Longitude</th>\n",
       "    </tr>\n",
       "    <tr>\n",
       "      <th>Borough</th>\n",
       "      <th></th>\n",
       "      <th></th>\n",
       "      <th></th>\n",
       "      <th></th>\n",
       "    </tr>\n",
       "  </thead>\n",
       "  <tbody>\n",
       "    <tr>\n",
       "      <th>Central Toronto</th>\n",
       "      <td>9</td>\n",
       "      <td>9</td>\n",
       "      <td>9</td>\n",
       "      <td>9</td>\n",
       "    </tr>\n",
       "    <tr>\n",
       "      <th>Downtown Toronto</th>\n",
       "      <td>19</td>\n",
       "      <td>19</td>\n",
       "      <td>19</td>\n",
       "      <td>19</td>\n",
       "    </tr>\n",
       "    <tr>\n",
       "      <th>East Toronto</th>\n",
       "      <td>5</td>\n",
       "      <td>5</td>\n",
       "      <td>5</td>\n",
       "      <td>5</td>\n",
       "    </tr>\n",
       "    <tr>\n",
       "      <th>East York</th>\n",
       "      <td>5</td>\n",
       "      <td>5</td>\n",
       "      <td>5</td>\n",
       "      <td>5</td>\n",
       "    </tr>\n",
       "    <tr>\n",
       "      <th>Etobicoke</th>\n",
       "      <td>12</td>\n",
       "      <td>12</td>\n",
       "      <td>12</td>\n",
       "      <td>12</td>\n",
       "    </tr>\n",
       "    <tr>\n",
       "      <th>Mississauga</th>\n",
       "      <td>1</td>\n",
       "      <td>1</td>\n",
       "      <td>1</td>\n",
       "      <td>1</td>\n",
       "    </tr>\n",
       "    <tr>\n",
       "      <th>North York</th>\n",
       "      <td>24</td>\n",
       "      <td>24</td>\n",
       "      <td>24</td>\n",
       "      <td>24</td>\n",
       "    </tr>\n",
       "    <tr>\n",
       "      <th>Scarborough</th>\n",
       "      <td>17</td>\n",
       "      <td>17</td>\n",
       "      <td>17</td>\n",
       "      <td>17</td>\n",
       "    </tr>\n",
       "    <tr>\n",
       "      <th>West Toronto</th>\n",
       "      <td>6</td>\n",
       "      <td>6</td>\n",
       "      <td>6</td>\n",
       "      <td>6</td>\n",
       "    </tr>\n",
       "    <tr>\n",
       "      <th>York</th>\n",
       "      <td>5</td>\n",
       "      <td>5</td>\n",
       "      <td>5</td>\n",
       "      <td>5</td>\n",
       "    </tr>\n",
       "  </tbody>\n",
       "</table>\n",
       "</div>"
      ],
      "text/plain": [
       "                  Postal Code  Neighborhood  Latitude  Longitude\n",
       "Borough                                                         \n",
       "Central Toronto             9             9         9          9\n",
       "Downtown Toronto           19            19        19         19\n",
       "East Toronto                5             5         5          5\n",
       "East York                   5             5         5          5\n",
       "Etobicoke                  12            12        12         12\n",
       "Mississauga                 1             1         1          1\n",
       "North York                 24            24        24         24\n",
       "Scarborough                17            17        17         17\n",
       "West Toronto                6             6         6          6\n",
       "York                        5             5         5          5"
      ]
     },
     "execution_count": 25,
     "metadata": {},
     "output_type": "execute_result"
    }
   ],
   "source": [
    "print('The data fram has {} unique boroughs and {} neighborhood'.format(len(CanPostCode[\"Borough\"].unique()),CanPostCode.shape[0]))\n",
    "print(CanPostCode[\"Borough\"].unique())\n",
    "CanPostCode.groupby('Borough').count()"
   ]
  },
  {
   "cell_type": "code",
   "execution_count": 27,
   "metadata": {},
   "outputs": [
    {
     "data": {
      "text/html": [
       "<div style=\"width:100%;\"><div style=\"position:relative;width:100%;height:0;padding-bottom:60%;\"><span style=\"color:#565656\">Make this Notebook Trusted to load map: File -> Trust Notebook</span><iframe src=\"about:blank\" style=\"position:absolute;width:100%;height:100%;left:0;top:0;border:none !important;\" data-html=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 onload=\"this.contentDocument.open();this.contentDocument.write(atob(this.getAttribute('data-html')));this.contentDocument.close();\" allowfullscreen webkitallowfullscreen mozallowfullscreen></iframe></div></div>"
      ],
      "text/plain": [
       "<folium.folium.Map at 0x1215cf080>"
      ]
     },
     "execution_count": 27,
     "metadata": {},
     "output_type": "execute_result"
    }
   ],
   "source": [
    "import folium # map rendering library\n",
    "import json # library to handle JSON files\n",
    "import requests # library to handle requests\n",
    "from pandas.io.json import json_normalize # tranform JSON file into a pandas dataframe\n",
    "# create map of Toronto using latitude and longitude values\n",
    "n = 1\n",
    "latitude = 43.6534817\n",
    "longitude = -79.3839347\n",
    "map_toronto = folium.Map(location=[latitude, longitude], zoom_start=10)\n",
    "\n",
    "# add markers to map\n",
    "for lat, lng, borough, neighborhood in zip(CanPostCode['Latitude'], CanPostCode['Longitude'], CanPostCode['Borough'], CanPostCode['Neighborhood']):\n",
    "    label = '{}, {}'.format(neighborhood, borough)\n",
    "    label = folium.Popup(label, parse_html=True)\n",
    "    folium.CircleMarker(\n",
    "        [lat, lng],\n",
    "        radius=5,\n",
    "        popup=label,\n",
    "        color='blue',\n",
    "        fill=True,\n",
    "        fill_color='#3186cc',\n",
    "        fill_opacity=0.7,\n",
    "        parse_html=False).add_to(map_toronto)  \n",
    "    \n",
    "map_toronto"
   ]
  },
  {
   "cell_type": "markdown",
   "metadata": {},
   "source": [
    "## Find ten top venues in Toronto\n",
    "Set up Forsquare:"
   ]
  },
  {
   "cell_type": "code",
   "execution_count": 28,
   "metadata": {},
   "outputs": [
    {
     "name": "stdout",
     "output_type": "stream",
     "text": [
      "Your credentails:\n",
      "CLIENT_ID: YUNBULII4XKK5MFG0AQLAL1MSRVLUOOMVC3NJRD2TGZE1RIQ\n",
      "CLIENT_SECRET:RBJIE5V0BE4DZZKHELF0DMMG1CQSCLD1YR4NA5VO1RSSL4SR\n"
     ]
    }
   ],
   "source": [
    "CLIENT_ID = 'YUNBULII4XKK5MFG0AQLAL1MSRVLUOOMVC3NJRD2TGZE1RIQ' # your Foursquare ID\n",
    "CLIENT_SECRET = 'RBJIE5V0BE4DZZKHELF0DMMG1CQSCLD1YR4NA5VO1RSSL4SR' # your Foursquare Secret\n",
    "VERSION = '20180605' # Foursquare API version\n",
    "\n",
    "print('Your credentails:')\n",
    "print('CLIENT_ID: ' + CLIENT_ID)\n",
    "print('CLIENT_SECRET:' + CLIENT_SECRET)\n",
    "LIMIT = 100 # limit of number of venues returned by Foursquare API\n",
    "radius = 500 # define radius"
   ]
  },
  {
   "cell_type": "code",
   "execution_count": 29,
   "metadata": {},
   "outputs": [],
   "source": [
    "# function that extracts the category of the venue\n",
    "def get_category_type(row):\n",
    "    try:\n",
    "        categories_list = row['categories']\n",
    "    except:\n",
    "        categories_list = row['venue.categories']\n",
    "        \n",
    "    if len(categories_list) == 0:\n",
    "        return None\n",
    "    else:\n",
    "        return categories_list[0]['name']"
   ]
  },
  {
   "cell_type": "code",
   "execution_count": 30,
   "metadata": {},
   "outputs": [],
   "source": [
    "def getNearbyVenues(names, latitudes, longitudes, radius=500):\n",
    "    \n",
    "    venues_list=[]\n",
    "    for name, lat, lng in zip(names, latitudes, longitudes):\n",
    "        #print(name)\n",
    "            \n",
    "        # create the API request URL\n",
    "        url = 'https://api.foursquare.com/v2/venues/explore?&client_id={}&client_secret={}&v={}&ll={},{}&radius={}&limit={}'.format(\n",
    "            CLIENT_ID, \n",
    "            CLIENT_SECRET, \n",
    "            VERSION, \n",
    "            lat, \n",
    "            lng, \n",
    "            radius, \n",
    "            LIMIT)\n",
    "            \n",
    "        # make the GET request\n",
    "        results = requests.get(url).json()[\"response\"]['groups'][0]['items']\n",
    "        \n",
    "        # return only relevant information for each nearby venue\n",
    "        venues_list.append([(\n",
    "            name, \n",
    "            lat, \n",
    "            lng, \n",
    "            v['venue']['name'], \n",
    "            v['venue']['location']['lat'], \n",
    "            v['venue']['location']['lng'],  \n",
    "            v['venue']['categories'][0]['name']) for v in results])\n",
    "\n",
    "    nearby_venues = pd.DataFrame([item for venue_list in venues_list for item in venue_list])\n",
    "    nearby_venues.columns = ['Neighborhood', \n",
    "                  'Neighborhood Latitude', \n",
    "                  'Neighborhood Longitude', \n",
    "                  'Venue', \n",
    "                  'Venue Latitude', \n",
    "                  'Venue Longitude', \n",
    "                  'Venue Category']\n",
    "    \n",
    "    return(nearby_venues)"
   ]
  },
  {
   "cell_type": "markdown",
   "metadata": {},
   "source": [
    "Find top hundred venues in each neighborhood:"
   ]
  },
  {
   "cell_type": "code",
   "execution_count": 31,
   "metadata": {},
   "outputs": [],
   "source": [
    "Toronto_venues = getNearbyVenues(names=CanPostCode['Neighborhood'],\n",
    "                                   latitudes=CanPostCode['Latitude'],\n",
    "                                   longitudes=CanPostCode['Longitude']\n",
    "                                  )"
   ]
  },
  {
   "cell_type": "code",
   "execution_count": 39,
   "metadata": {},
   "outputs": [
    {
     "data": {
      "text/html": [
       "<div>\n",
       "<style scoped>\n",
       "    .dataframe tbody tr th:only-of-type {\n",
       "        vertical-align: middle;\n",
       "    }\n",
       "\n",
       "    .dataframe tbody tr th {\n",
       "        vertical-align: top;\n",
       "    }\n",
       "\n",
       "    .dataframe thead th {\n",
       "        text-align: right;\n",
       "    }\n",
       "</style>\n",
       "<table border=\"1\" class=\"dataframe\">\n",
       "  <thead>\n",
       "    <tr style=\"text-align: right;\">\n",
       "      <th></th>\n",
       "      <th>Count</th>\n",
       "    </tr>\n",
       "    <tr>\n",
       "      <th>Venue Category</th>\n",
       "      <th></th>\n",
       "    </tr>\n",
       "  </thead>\n",
       "  <tbody>\n",
       "    <tr>\n",
       "      <th>Coffee Shop</th>\n",
       "      <td>174</td>\n",
       "    </tr>\n",
       "    <tr>\n",
       "      <th>Café</th>\n",
       "      <td>100</td>\n",
       "    </tr>\n",
       "    <tr>\n",
       "      <th>Restaurant</th>\n",
       "      <td>71</td>\n",
       "    </tr>\n",
       "    <tr>\n",
       "      <th>Park</th>\n",
       "      <td>54</td>\n",
       "    </tr>\n",
       "    <tr>\n",
       "      <th>Pizza Place</th>\n",
       "      <td>45</td>\n",
       "    </tr>\n",
       "    <tr>\n",
       "      <th>Italian Restaurant</th>\n",
       "      <td>45</td>\n",
       "    </tr>\n",
       "    <tr>\n",
       "      <th>Japanese Restaurant</th>\n",
       "      <td>42</td>\n",
       "    </tr>\n",
       "    <tr>\n",
       "      <th>Sandwich Place</th>\n",
       "      <td>41</td>\n",
       "    </tr>\n",
       "    <tr>\n",
       "      <th>Clothing Store</th>\n",
       "      <td>38</td>\n",
       "    </tr>\n",
       "    <tr>\n",
       "      <th>Bakery</th>\n",
       "      <td>38</td>\n",
       "    </tr>\n",
       "  </tbody>\n",
       "</table>\n",
       "</div>"
      ],
      "text/plain": [
       "                     Count\n",
       "Venue Category            \n",
       "Coffee Shop            174\n",
       "Café                   100\n",
       "Restaurant              71\n",
       "Park                    54\n",
       "Pizza Place             45\n",
       "Italian Restaurant      45\n",
       "Japanese Restaurant     42\n",
       "Sandwich Place          41\n",
       "Clothing Store          38\n",
       "Bakery                  38"
      ]
     },
     "execution_count": 39,
     "metadata": {},
     "output_type": "execute_result"
    }
   ],
   "source": [
    "top_venues = Toronto_venues.groupby('Venue Category').count().sort_values(\"Neighborhood\" , ascending=False)\n",
    "pd.set_option(\"display.max_rows\", None, \"display.max_columns\", None)\n",
    "top_venues['Count'] = top_venues['Venue']\n",
    "top_venues[['Count']].head(10)"
   ]
  },
  {
   "cell_type": "code",
   "execution_count": 40,
   "metadata": {},
   "outputs": [
    {
     "name": "stdout",
     "output_type": "stream",
     "text": [
      "test\n"
     ]
    }
   ],
   "source": [
    "print('test')"
   ]
  },
  {
   "cell_type": "code",
   "execution_count": null,
   "metadata": {},
   "outputs": [],
   "source": []
  }
 ],
 "metadata": {
  "kernelspec": {
   "display_name": "Python 3",
   "language": "python",
   "name": "python3"
  },
  "language_info": {
   "codemirror_mode": {
    "name": "ipython",
    "version": 3
   },
   "file_extension": ".py",
   "mimetype": "text/x-python",
   "name": "python",
   "nbconvert_exporter": "python",
   "pygments_lexer": "ipython3",
   "version": "3.7.2"
  }
 },
 "nbformat": 4,
 "nbformat_minor": 2
}
