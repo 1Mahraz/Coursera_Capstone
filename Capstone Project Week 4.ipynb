{
 "cells": [
  {
   "cell_type": "markdown",
   "metadata": {},
   "source": [
    "# Exploring Toronto Neighborhood\n",
    "\n",
    "## 1.Introduction\n",
    "\n",
    "Toronto is the provincial capital of the state of Ontario and the most populous city in Canada with a population of over 2.5 M as of 2016. It is also known as the financial capital of Canada. Toronto is known as one of the most multicultural and multiracial cities in the world. More than half of the residents of the city belong to a visible minority group, and there are many ethnic neighborhoods in the city, including Chinatowns, Little Italy, Little India, Little Portugal, Little Jamaica, and many more. \n",
    "\n",
    "In a diverse city like Toronto, each of the different minority groups have brought their traditional cuisine from their own countries and keep it as an expression of cultural identity. Recently I read an article on how different neighborhoods of the NYC can be clustered based on the popular resteaurants in those neighborhoods. This gave me the idea of conductin similar study for the city of Toronto. In this project I am going to look at the popular resturants in different neighborhoods of Toronto and invesitgate the relatin between food diversity and location. Moreover, I am going to investigate what the popular activities in each area are, and what the potential investment opourtunity in each are.\n",
    "\n",
    "Stakeholders would be the investors who are intrested in opening a new business to use this analysis to evaluate the risks and oppurtunities. Those who are intrested to know more about the city diversity culture may also benefit from this study.\n",
    "\n",
    "## 2.Data\n",
    "\n",
    "### 2.1. Neighborhoods and Boroughs of Toronto\n",
    "In this project we are going to use the *List of postal codes of Canada* ([Wikipedia page](https://en.wikipedia.org/wiki/List_of_postal_codes_of_Canada:_M)) to find all the neighborhoods of Toronto and their respective boroughs. List of all the postal codes and their respective neighborhoods and boroughs are tabulated in that wikipedia page as follow (only 5 first rows are shown here):\n",
    "\n",
    "|Postal Code|Borough|Neighborhood| \n",
    "|-----|-----|-----|\n",
    "|M1A | Not assigned| Not assigned|\n",
    "|M2A | Not assigned| Not assigned|\n",
    "|M3A| North York |  Parkwoods|\n",
    "|M4A | North York| Victoria Village \n",
    "|M5A |\tDowntown Toronto |Regent Park, Harbourfront |\n",
    "\n",
    "### 2.2. Beautiful Soup\n",
    "\n",
    "Beautiful is a Python library to extract data out of HTML, XML, or other markup languages. When you find some data on a website that you are interested in but there is no direct link to download those data, Beautiful Soup, as a web scraping tool, can be used to pull the data and clean them. In this project, since there was no way to download the above table, I used Beautiful Soup to extract the table from the Wikipedia page, clean it, and convert it to a data frame that can be easily manipulated.\n",
    "\n",
    "### 2.3. Forsquare API\n",
    "As a social location service, Foursquare provides location-based experiences with diverse information about the venues. Foursquare users can share their opinions on the application and comment on the quality of the service they have received. The Foursquare API allows the developer to interact with the Foursquare platform and obtain the information they required. In this project, I used the Foursquare API to get a list of venues created by Foursquare users in each neighborhood.\n",
    "\n",
    "### 2.4. OpenCage Geocoder\n",
    "To get venues of a neighborhood from the Foursquare API, we need the coordinates of the location. Since we only obtain the name of the neighbors from the Wikipedia page, we need to get the coordinates of the location. The OpenCage Geocoder is a geocoding library written in Python that can convert an address to its latitude-longitude coordinates."
   ]
  },
  {
   "cell_type": "code",
   "execution_count": null,
   "metadata": {},
   "outputs": [],
   "source": []
  }
 ],
 "metadata": {
  "kernelspec": {
   "display_name": "Python 3",
   "language": "python",
   "name": "python3"
  },
  "language_info": {
   "codemirror_mode": {
    "name": "ipython",
    "version": 3
   },
   "file_extension": ".py",
   "mimetype": "text/x-python",
   "name": "python",
   "nbconvert_exporter": "python",
   "pygments_lexer": "ipython3",
   "version": "3.7.2"
  }
 },
 "nbformat": 4,
 "nbformat_minor": 2
}
